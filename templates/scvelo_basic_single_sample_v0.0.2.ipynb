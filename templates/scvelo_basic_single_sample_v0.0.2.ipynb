{
 "cells": [
  {
   "cell_type": "markdown",
   "id": "5c858f65-f474-4944-91e7-8821e10f1573",
   "metadata": {},
   "source": [
    "# RNA velocity analysis using scVelo\n",
    "\n",
    "* __Notebook version__: `v0.0.2`\n",
    "* __Created by:__ `Imperial BRC Genomics Facility`\n",
    "* __Maintained by:__ `Imperial BRC Genomics Facility`\n",
    "* __Docker image:__ `imperialgenomicsfacility/scanpy-notebook-image:release-v0.0.4`\n",
    "* __Github repository:__ [imperial-genomics-facility/scanpy-notebook-image](https://github.com/imperial-genomics-facility/scanpy-notebook-image)\n",
    "* __Created on:__ {{ DATE_TAG }}\n",
    "* __Contact us:__ [Imperial BRC Genomics Facility](https://www.imperial.ac.uk/medicine/research-and-impact/facilities/genomics-facility/contact-us/)\n",
    "* __License:__ [Apache License 2.0](https://github.com/imperial-genomics-facility/scanpy-notebook-image/blob/master/LICENSE)\n",
    "* __Project name:__ {{ PROJECT_IGF_ID }}\n",
    "{% if SAMPLE_IGF_ID %}* __Sample name:__ {{ SAMPLE_IGF_ID }}{% endif %}\n",
    "\n",
    "## Table of contents\n",
    "\n",
    "* [Introduction](#Introduction)\n",
    "* [Tools required](#Tools-required)\n",
    "* [Loading required libraries](#Loading-required-libraries)\n",
    "* [Input parameters](#Input-parameters)\n",
    "* [Reading data from Cellranger output](#Reading-data-from-Cellranger-output)\n",
    "  * [Reading output of Scanpy](#Reading-output-of-Scanpy)\n",
    "  * [Reading output of Velocyto](#Reading-output-of-Velocyto)\n",
    "* [Estimate RNA velocity](#Estimate-RNA-velocity)\n",
    "  * [Dynamical Model](#Dynamical-Model)\n",
    "* [Project the velocities](#Project-the-velocities)\n",
    "* [Interprete the velocities](#Interprete-the-velocities)\n",
    "* [Identify important genes](#Identify-important-genes)\n",
    "* [Kinetic rate paramters](#Kinetic-rate-paramters)\n",
    "* [Latent time](#Latent-time)\n",
    "* [Top-likelihood genes](#Top-likelihood-genes)\n",
    "* [Cluster-specific top-likelihood genes](#Cluster-specific-top-likelihood-genes)\n",
    "* [Velocities in cycling progenitors](#Velocities-in-cycling-progenitors)\n",
    "* [Speed and coherence](#Speed-and-coherence)\n",
    "* [PAGA velocity graph](#PAGA-velocity-graph)\n",
    "* [References](#References)\n",
    "* [Acknowledgement](#Acknowledgement)\n",
    "\n",
    "\n",
    "## Introduction\n",
    "This notebook for running RNA velocity analysis (for a single sample) using [scVelo](https://scvelo.readthedocs.io/) package. Most of the codes and documentation used in this notebook has been copied from the following sources:\n",
    "\n",
    "* [RNA Velocity Basics](https://scvelo.readthedocs.io/VelocityBasics/)\n",
    "* [Dynamical Modeling](https://scvelo.readthedocs.io/DynamicalModeling/)\n",
    "\n",
    "## Tools required\n",
    "* [scVelo](https://scvelo.readthedocs.io/)\n",
    "\n",
    "## Loading required libraries\n",
    "\n",
    "We need  to load all the required libraries to environment before we can run any of the analysis steps. Also, we are checking the version information for most of the major packages used for analysis."
   ]
  },
  {
   "cell_type": "code",
   "execution_count": null,
   "id": "5dba6a00-9f37-46fb-91c7-bd3d6508bba0",
   "metadata": {},
   "outputs": [],
   "source": [
    "%matplotlib inline\n",
    "import logging\n",
    "import pandas as pd\n",
    "import scvelo as scv\n",
    "scv.logging.print_version()"
   ]
  },
  {
   "cell_type": "markdown",
   "id": "7d1c9e35-1028-4780-b95e-674a23b65249",
   "metadata": {},
   "source": [
    "<div align=\"right\"><a href=\"#Table-of-contents\">Go to TOC</a></div>\n",
    "\n",
    "## Input parameters"
   ]
  },
  {
   "cell_type": "code",
   "execution_count": null,
   "id": "45d7c4a6-1e94-49e3-896c-77c400cc27b8",
   "metadata": {},
   "outputs": [],
   "source": [
    "scanpy_h5ad = '{{ SCANPY_H5AD }}'\n",
    "loom_file = '{{ VELOCYTO_LOOM }}'\n",
    "threads = {{ CPU_THREADS }}\n",
    "genome_build = '{{ GENOME_BUILD }}'"
   ]
  },
  {
   "cell_type": "code",
   "execution_count": null,
   "id": "38757a45-54af-4ec0-9b4c-35bc816a4da4",
   "metadata": {},
   "outputs": [],
   "source": [
    "s_genes = {{ CUSTOM_S_GENES_LIST }}\n",
    "g2m_genes = {{ CUSTOM_G2M_GENES_LIST }}"
   ]
  },
  {
   "cell_type": "markdown",
   "id": "da001e28-b701-419c-ac94-39c6931107e4",
   "metadata": {},
   "source": [
    "<div align=\"right\"><a href=\"#Table-of-contents\">Go to TOC</a></div>\n",
    "\n",
    "## Reading data from Cellranger output\n",
    "### Reading output of Scanpy\n",
    "We have already processed the count data using [Scanpy](https://scanpy.readthedocs.io/en/stable/). Now we are loading the h5ad file using scVelo."
   ]
  },
  {
   "cell_type": "code",
   "execution_count": null,
   "id": "37115af6-b3f7-4c99-b87f-6e80df3e6e4d",
   "metadata": {},
   "outputs": [],
   "source": [
    "adata = scv.read(scanpy_h5ad, cache=True)"
   ]
  },
  {
   "cell_type": "markdown",
   "id": "162aaed0-2066-4242-8d09-bb6cca6b7ac9",
   "metadata": {},
   "source": [
    "### Reading output of Velocyto\n",
    "We have already generated loom file using [Velocyto](http://velocyto.org/velocyto.py/). Now we are loading the loom file to scVelo."
   ]
  },
  {
   "cell_type": "code",
   "execution_count": null,
   "id": "1c9b4e66-279a-4be9-a542-7076372525e8",
   "metadata": {},
   "outputs": [],
   "source": [
    "ldata = scv.read(loom_file, cache=True)"
   ]
  },
  {
   "cell_type": "code",
   "execution_count": null,
   "id": "fd7885a7-4753-4f8c-a7bf-9760d464a4c6",
   "metadata": {},
   "outputs": [],
   "source": [
    "if genome_build == 'TAIR10':\n",
    "    ldata.var_names = ldata.var['Accession']"
   ]
  },
  {
   "cell_type": "code",
   "execution_count": null,
   "id": "71b6d2c7-af3d-4098-b64b-9f2198017860",
   "metadata": {},
   "outputs": [],
   "source": [
    "ldata.var_names_make_unique()"
   ]
  },
  {
   "cell_type": "code",
   "execution_count": null,
   "id": "18682372-53b5-4e58-b5a9-3a09e2e2a2ad",
   "metadata": {},
   "outputs": [],
   "source": [
    "adata = scv.utils.merge(adata, ldata)"
   ]
  },
  {
   "cell_type": "markdown",
   "id": "f45eb90d-fbf7-41a3-8ecb-2fab5b2b309c",
   "metadata": {},
   "source": [
    "Displaying the proportions of spliced/unspliced counts"
   ]
  },
  {
   "cell_type": "code",
   "execution_count": null,
   "id": "135cc5e1-2b3f-4fac-ba74-ca494681fcf8",
   "metadata": {},
   "outputs": [],
   "source": [
    "scv.pl.proportions(adata, groupby='leiden', dpi=150)"
   ]
  },
  {
   "cell_type": "markdown",
   "id": "38078534-df56-4db8-99f0-521b7442b952",
   "metadata": {},
   "source": [
    "Further, we need the first and second order moments (means and uncentered variances) computed among nearest neighbors in PCA space, summarized in `scv.pp.moments`. First order is needed for deterministic velocity estimation, while stochastic estimation also requires second order moments."
   ]
  },
  {
   "cell_type": "code",
   "execution_count": null,
   "id": "7e495692-6f5b-4cd4-a0f7-a11f7a610929",
   "metadata": {},
   "outputs": [],
   "source": [
    "scv.pp.moments(adata, n_neighbors=30, n_pcs=20, use_highly_variable=True)"
   ]
  },
  {
   "cell_type": "markdown",
   "id": "7b954327-221e-4d49-ba51-0a61733d981c",
   "metadata": {},
   "source": [
    "<div align=\"right\"><a href=\"#Table-of-contents\">Go to TOC</a></div>\n",
    "\n",
    "## Estimate RNA velocity\n",
    "\n",
    "Velocities are vectors in gene expression space and represent the direction and speed of movement of the individual cells. The velocities are obtained by modeling transcriptional dynamics of splicing kinetics, either stochastically (default) or deterministically (by setting mode='`deterministic`'). For each gene, a steady-state-ratio of pre-mature (unspliced) and mature (spliced) mRNA counts is fitted, which constitutes a constant transcriptional state. Velocities are then obtained as residuals from this ratio. Positive velocity indicates that a gene is up-regulated, which occurs for cells that show higher abundance of unspliced mRNA for that gene than expected in steady state. Conversely, negative velocity indicates that a gene is down-regulated.\n",
    "\n",
    "### Dynamical Model\n",
    "\n",
    "We run the dynamical model to learn the full transcriptional dynamics of splicing kinetics.\n",
    "\n",
    "It is solved in a likelihood-based expectation-maximization framework, by iteratively estimating the parameters of reaction rates and latent cell-specific variables, i.e. transcriptional state and cell-internal latent time. It thereby aims to learn the unspliced/spliced phase trajectory for each gene."
   ]
  },
  {
   "cell_type": "code",
   "execution_count": null,
   "id": "56911a69-58dc-4151-ab4b-c5c2a16ff378",
   "metadata": {},
   "outputs": [],
   "source": [
    "scv.tl.recover_dynamics(adata, n_jobs=threads)"
   ]
  },
  {
   "cell_type": "code",
   "execution_count": null,
   "id": "61950278-6e33-49c3-bfb7-62ce77c833c8",
   "metadata": {},
   "outputs": [],
   "source": [
    "scv.tl.velocity(adata, mode='dynamical')"
   ]
  },
  {
   "cell_type": "markdown",
   "id": "f0a5917b-0bef-4ce7-a725-0b790de258cc",
   "metadata": {},
   "source": [
    "The computed velocities are stored in `adata.layers` just like the count matrices.\n",
    "\n",
    "The combination of velocities across genes can then be used to estimate the future state of an individual cell. In order to project the velocities into a lower-dimensional embedding, transition probabilities of cell-to-cell transitions are estimated. That is, for each velocity vector we find the likely cell transitions that are accordance with that direction. The transition probabilities are computed using cosine correlation between the potential cell-to-cell transitions and the velocity vector, and are stored in a matrix denoted as velocity graph. The resulting velocity graph has dimension $n_{obs}×n_{obs}$\n",
    "and summarizes the possible cell state changes that are well explained through the velocity vectors (for runtime speedup it can also be computed on reduced PCA space by setting `approx=True`)."
   ]
  },
  {
   "cell_type": "code",
   "execution_count": null,
   "id": "b4402856-e5f4-44b5-a798-da0c1dd6491c",
   "metadata": {},
   "outputs": [],
   "source": [
    "scv.tl.velocity_graph(adata)"
   ]
  },
  {
   "cell_type": "markdown",
   "id": "b864a281-a67e-4ed0-a900-f9c0327fb48a",
   "metadata": {},
   "source": [
    "<div align=\"right\"><a href=\"#Table-of-contents\">Go to TOC</a></div>\n",
    "\n",
    "## Project the velocities\n",
    "\n",
    "Finally, the velocities are projected onto any embedding, specified by basis, and visualized in one of these ways:\n",
    "\n",
    "* on cellular level with `scv.pl.velocity_embedding`\n",
    "* as gridlines with `scv.pl.velocity_embedding_grid`\n",
    "* or as streamlines with `scv.pl.velocity_embedding_stream`"
   ]
  },
  {
   "cell_type": "code",
   "execution_count": null,
   "id": "77d49f16-98bb-44e3-99d7-22a7ed71ed31",
   "metadata": {},
   "outputs": [],
   "source": [
    "scv.pl.velocity_embedding(\n",
    "    adata,\n",
    "    basis='umap',\n",
    "    color='leiden',\n",
    "    arrow_size=2,\n",
    "    arrow_length=2,\n",
    "    legend_loc='center right',\n",
    "    figsize=(9,7),\n",
    "    dpi=150)"
   ]
  },
  {
   "cell_type": "code",
   "execution_count": null,
   "id": "36370641-bad5-441a-8cdb-f8fa04857c82",
   "metadata": {},
   "outputs": [],
   "source": [
    "scv.pl.velocity_embedding_grid(\n",
    "    adata,\n",
    "    basis='umap',\n",
    "    color='leiden',\n",
    "    arrow_size=1,\n",
    "    arrow_length=2,\n",
    "    legend_loc='center right',\n",
    "    figsize=(9,7),\n",
    "    dpi=150)"
   ]
  },
  {
   "cell_type": "code",
   "execution_count": null,
   "id": "89247c4e-9ad4-4a8d-af22-d91d7e6dd93c",
   "metadata": {},
   "outputs": [],
   "source": [
    "scv.pl.velocity_embedding_stream(\n",
    "    adata,\n",
    "    basis='umap',\n",
    "    color='leiden',\n",
    "    linewidth=0.5,\n",
    "    figsize=(9,7),\n",
    "    dpi=150)"
   ]
  },
  {
   "cell_type": "markdown",
   "id": "1dcedb7a-955c-4bc5-b9f5-068a3099ed08",
   "metadata": {},
   "source": [
    "The velocity vector field displayed as streamlines yields fine-grained insights into the developmental processes. It accurately delineates the cycling population of ductal cells and endocrine progenitors. Further, it illuminates cell states of lineage commitment, cell-cycle exit, and endocrine cell differentiation.\n",
    "\n",
    "The most fine-grained resolution of the velocity vector field we get at single-cell level, with each arrow showing the direction and speed of movement of an individual cell.\n"
   ]
  },
  {
   "cell_type": "markdown",
   "id": "5cf1c837-2c4b-425b-a3be-f3f736c213e6",
   "metadata": {},
   "source": [
    "<div align=\"right\"><a href=\"#Table-of-contents\">Go to TOC</a></div>\n",
    "\n",
    "## Interprete the velocities\n",
    " \n",
    "We will examine the phase portraits of some marker genes, visualized with `scv.pl.velocity(adata, gene_names)` and `scv.pl.scatter(adata, gene_names)`\n",
    "\n",
    "Gene activity is orchestrated by transcriptional regulation. \n",
    "\n",
    "Transcriptional induction for a particular gene results in an increase of (newly transcribed) precursor unspliced mRNAs while, conversely, repression or absence of transcription results in a decrease of unspliced mRNAs. Spliced mRNAs is produced from unspliced mRNA and follows the same trend with a time lag. Time is a hidden/latent variable. \n",
    "\n",
    "Thus, the dynamics needs to be inferred from what is actually measured: spliced and unspliced mRNAs as displayed in the phase portrait.\n"
   ]
  },
  {
   "cell_type": "markdown",
   "id": "07cf2a03-7bd6-4e72-93b6-7012bae2e3fb",
   "metadata": {},
   "source": [
    "We are collecting the top marker gene for each cluster from the Scanpy output"
   ]
  },
  {
   "cell_type": "code",
   "execution_count": null,
   "id": "2f01a74f-7be7-49e0-bde8-93bbeb21cae0",
   "metadata": {},
   "outputs": [],
   "source": [
    "top_marker_genes = \\\n",
    "    pd.DataFrame(\n",
    "        adata.uns['rank_genes_groups']['names']).\\\n",
    "    head(1).\\\n",
    "    values.\\\n",
    "    tolist()[0]\n",
    "pd.DataFrame(adata.uns['rank_genes_groups']['names']).head(1)"
   ]
  },
  {
   "cell_type": "markdown",
   "id": "d61f5e8f-8ed3-4bca-83d0-4ca9e9b802be",
   "metadata": {},
   "source": [
    "Now plotting phase and velocity plot for top marker genes.\n",
    "\n",
    "The phase plot shows spliced against unspliced expressions with steady-state fit. Further the embedding is shown colored by velocity and expression.\n"
   ]
  },
  {
   "cell_type": "code",
   "execution_count": null,
   "id": "b3f0047f-4091-4856-9bcd-1980d1596a76",
   "metadata": {},
   "outputs": [],
   "source": [
    "scv.pl.velocity(adata, top_marker_genes, ncols=1, figsize=(9,7), dpi=150)"
   ]
  },
  {
   "cell_type": "markdown",
   "id": "485bbd6f-baeb-4c0c-a4ac-9f272bda00b4",
   "metadata": {},
   "source": [
    "The black line corresponds to the estimated 'steady-state' ratio, i.e. the ratio of unspliced to spliced mRNA abundance which is in a constant transcriptional state. RNA velocity for a particular gene is determined as the residual, i.e. how much an observation deviates from that steady-state line. Positive velocity indicates that a gene is up-regulated, which occurs for cells that show higher abundance of unspliced mRNA for that gene than expected in steady state. Conversely, negative velocity indicates that a gene is down-regulated."
   ]
  },
  {
   "cell_type": "code",
   "execution_count": null,
   "id": "95ac8479-7805-4823-9d97-77dcb85d4354",
   "metadata": {},
   "outputs": [],
   "source": [
    "scv.pl.scatter(\n",
    "    adata,\n",
    "    top_marker_genes,\n",
    "    add_outline=True,\n",
    "    color='leiden',\n",
    "    ncols=2,\n",
    "    dpi=150)"
   ]
  },
  {
   "cell_type": "code",
   "execution_count": null,
   "id": "d5a9ec94-904b-4ddc-a477-0b63df710aa5",
   "metadata": {},
   "outputs": [],
   "source": [
    "scv.pl.scatter(\n",
    "    adata,\n",
    "    top_marker_genes,\n",
    "    add_outline=True,\n",
    "    color='velocity',\n",
    "    ncols=2,\n",
    "    dpi=150)"
   ]
  },
  {
   "cell_type": "markdown",
   "id": "09cb1f4b-58e5-4c7e-9137-ab5b122fa2df",
   "metadata": {},
   "source": [
    "<div align=\"right\"><a href=\"#Table-of-contents\">Go to TOC</a></div>\n",
    "\n",
    "## Identify important genes\n",
    "\n",
    "We need a systematic way to identify genes that may help explain the resulting vector field and inferred lineages. To do so, we can test which genes have cluster-specific differential velocity expression, being siginificantly higher/lower compared to the remaining population. The module `scv.tl.rank_velocity_genes` runs a differential velocity t-test and outpus a gene ranking for each cluster. Thresholds can be set (e.g. `min_corr`) to restrict the test on a selection of gene candidates."
   ]
  },
  {
   "cell_type": "code",
   "execution_count": null,
   "id": "7679ebd3-1f7d-4297-a0e1-8dd7a411c9cd",
   "metadata": {},
   "outputs": [],
   "source": [
    "scv.tl.rank_velocity_genes(adata, groupby='leiden', min_corr=.3)\n",
    "df = \\\n",
    "    scv.DataFrame(\n",
    "        adata.uns['rank_velocity_genes']['names'])\n",
    "df.head()"
   ]
  },
  {
   "cell_type": "markdown",
   "id": "8f0756cc-696a-47c3-a734-def502b3a4cb",
   "metadata": {},
   "source": [
    "<div align=\"right\"><a href=\"#Table-of-contents\">Go to TOC</a></div>\n",
    "\n",
    "## Kinetic rate paramters\n",
    "The rates of RNA transcription, splicing and degradation are estimated without the need of any experimental data.\n",
    "\n",
    "They can be useful to better understand the cell identity and phenotypic heterogeneity."
   ]
  },
  {
   "cell_type": "code",
   "execution_count": null,
   "id": "5e263a58-c545-42d8-a17b-f09a588e2464",
   "metadata": {},
   "outputs": [],
   "source": [
    "df = adata.var\n",
    "df = df[(df['fit_likelihood'] > .1) & (df['velocity_genes'] == True)]\n",
    "\n",
    "kwargs = dict(xscale='log', fontsize=16)\n",
    "with scv.GridSpec(ncols=3) as pl:\n",
    "    pl.hist(\n",
    "        df['fit_alpha'],\n",
    "        xlabel='transcription rate',\n",
    "        **kwargs)\n",
    "    pl.hist(\n",
    "        df['fit_beta'] * df['fit_scaling'],\n",
    "        xlabel='splicing rate',\n",
    "        xticks=[.1, .4, 1], **kwargs)\n",
    "    pl.hist(\n",
    "        df['fit_gamma'],\n",
    "        xlabel='degradation rate',\n",
    "        xticks=[.1, .4, 1], **kwargs)\n",
    "\n",
    "scv.get_df(adata, 'fit*', dropna=True).head()"
   ]
  },
  {
   "cell_type": "markdown",
   "id": "c9d42b1d-13f5-4904-b6a5-fc93236ac346",
   "metadata": {},
   "source": [
    "The estimated gene-specific parameters comprise rates of transription (`fit_alpha`), splicing (`fit_beta`), degradation (`fit_gamma`), switching time point (`fit_t_`), a scaling parameter to adjust for under-represented unspliced reads (`fit_scaling`), standard deviation of unspliced and spliced reads (`fit_std_u`, `fit_std_s`), the gene likelihood (`fit_likelihood`), inferred steady-state levels (`fit_steady_u`, `fit_steady_s`) with their corresponding p-values (`fit_pval_steady_u`, `fit_pval_steady_s`), the overall model variance (`fit_variance`), and a scaling factor to align the gene-wise latent times to a universal, gene-shared latent time (`fit_alignment_scaling`)."
   ]
  },
  {
   "cell_type": "markdown",
   "id": "4db0ef40-e541-4e61-80c0-08a91b1f9c07",
   "metadata": {},
   "source": [
    "<div align=\"right\"><a href=\"#Table-of-contents\">Go to TOC</a></div>\n",
    "\n",
    "## Latent time\n",
    "\n",
    "The dynamical model recovers the latent time of the underlying cellular processes. This latent time represents the cell’s internal clock and approximates the real time experienced by cells as they differentiate, based only on its transcriptional dynamics."
   ]
  },
  {
   "cell_type": "code",
   "execution_count": null,
   "id": "0a946f43-012b-4617-8fd5-956e7f60315f",
   "metadata": {},
   "outputs": [],
   "source": [
    "scv.tl.latent_time(adata)\n",
    "scv.pl.scatter(\n",
    "    adata,\n",
    "    color='latent_time',\n",
    "    color_map='gnuplot',\n",
    "    size=80, dpi=150)"
   ]
  },
  {
   "cell_type": "code",
   "execution_count": null,
   "id": "78fb5035-ed0d-47e1-9aa6-26f3100f922c",
   "metadata": {},
   "outputs": [],
   "source": [
    "scv.tl.latent_time(adata)\n",
    "scv.pl.scatter(\n",
    "    adata,\n",
    "    color='latent_time',\n",
    "    color_map='gnuplot',\n",
    "    size=80,\n",
    "    dpi=150)"
   ]
  },
  {
   "cell_type": "markdown",
   "id": "c5e81f4f-673d-4177-9788-097767f2b79d",
   "metadata": {},
   "source": [
    "<div align=\"right\"><a href=\"#Table-of-contents\">Go to TOC</a></div>\n",
    "\n",
    "## Top-likelihood genes\n",
    "\n",
    "Driver genes display pronounced dynamic behavior and are systematically detected via their characterization by high likelihoods in the dynamic model."
   ]
  },
  {
   "cell_type": "code",
   "execution_count": null,
   "id": "5a734c72-7df6-4ae9-9452-90201ff56975",
   "metadata": {},
   "outputs": [],
   "source": [
    "top_genes = \\\n",
    "    adata.var['fit_likelihood'].sort_values(ascending=False).index\n",
    "scv.pl.scatter(\n",
    "    adata,\n",
    "    basis=top_genes[:15],\n",
    "    color='leiden',\n",
    "    ncols=3,\n",
    "    frameon=False,\n",
    "    dpi=150)"
   ]
  },
  {
   "cell_type": "markdown",
   "id": "10ed87c8-072d-44b6-a6cd-4d8ff1cf2afa",
   "metadata": {},
   "source": [
    "<div align=\"right\"><a href=\"#Table-of-contents\">Go to TOC</a></div>\n",
    "\n",
    "## Cluster-specific top-likelihood genes\n",
    "\n",
    "Moreover, partial gene likelihoods can be computed for a each cluster of cells to enable cluster-specific identification of potential drivers."
   ]
  },
  {
   "cell_type": "code",
   "execution_count": null,
   "id": "1b25b7c5-5add-44ba-a343-012f461d2761",
   "metadata": {},
   "outputs": [],
   "source": [
    "scv.tl.rank_dynamical_genes(adata, groupby='leiden')\n",
    "df = scv.DataFrame(adata.uns['rank_dynamical_genes']['names'])\n",
    "df.head(5)"
   ]
  },
  {
   "cell_type": "code",
   "execution_count": null,
   "id": "8ddf79bf-218a-40db-954b-cd9bba6a2bf7",
   "metadata": {},
   "outputs": [],
   "source": [
    "adata.obs['leiden'].drop_duplicates().sort_values().values.tolist()"
   ]
  },
  {
   "cell_type": "code",
   "execution_count": null,
   "id": "b25f194a-5e48-4bb6-a248-efbd87ddc9f1",
   "metadata": {},
   "outputs": [],
   "source": [
    "for cluster in adata.obs['leiden'].drop_duplicates().sort_values().values.tolist():\n",
    "    scv.pl.scatter(\n",
    "        adata,\n",
    "        df[cluster][:3],\n",
    "        ylabel=cluster,\n",
    "        color='leiden',\n",
    "        frameon=False)"
   ]
  },
  {
   "cell_type": "markdown",
   "id": "22fd2d91-1728-4bf3-8bc8-de7c3a4b501d",
   "metadata": {},
   "source": [
    "<div align=\"right\"><a href=\"#Table-of-contents\">Go to TOC</a></div>\n",
    "\n",
    "## Velocities in cycling progenitors\n",
    "\n",
    "The cell cycle detected by RNA velocity, is biologically affirmed by cell cycle scores (standardized scores of mean expression levels of phase marker genes).\n",
    "\n",
    "Unless gene lists are provided for S and G2M phase, it calculates scores and assigns a cell cycle phase (G1, S, G2M) using the list of cell cycle genes defined in _Tirosh et al, 2015_ (https://doi.org/10.1126/science.aad0501)."
   ]
  },
  {
   "cell_type": "code",
   "execution_count": null,
   "id": "ab6cc912-64f3-4792-9954-dcb72a5c2731",
   "metadata": {},
   "outputs": [],
   "source": [
    "score_cell_cycle_genes = False\n",
    "if s_genes is not None and g2m_genes is not None and \\\n",
    "   isinstance(s_genes, list) and isinstance(g2m_genes, list) and \\\n",
    "   len(s_genes) > 0 and len(g2m_genes) > 0:\n",
    "    print('Using custom cell cycle genes')\n",
    "    scv.tl.score_genes_cell_cycle(adata, s_genes=s_genes, g2m_genes=g2m_genes)\n",
    "    score_cell_cycle_genes = True\n",
    "else:\n",
    "    if genome_build in ('HG38', 'MM10', 'MM39'):\n",
    "        print('Using predefined cell cycle genes')\n",
    "        scv.tl.score_genes_cell_cycle(adata, s_genes=None, g2m_genes=None)\n",
    "        score_cell_cycle_genes = True\n",
    "    else:\n",
    "        logging.warning(\"Skipping step for cell cycle genes scoring\")"
   ]
  },
  {
   "cell_type": "code",
   "execution_count": null,
   "id": "748ddcdd-eb6b-486e-bf04-6fd5aaaa611e",
   "metadata": {},
   "outputs": [],
   "source": [
    "if score_cell_cycle_genes:\n",
    "    scv.pl.scatter(\n",
    "        adata,\n",
    "        color_gradients=['S_score', 'G2M_score'],\n",
    "        smooth=True,\n",
    "        perc=[5, 95],\n",
    "        dpi=150)"
   ]
  },
  {
   "cell_type": "markdown",
   "id": "4ba06464-973f-4d0e-8f6d-ddd4929f7d7e",
   "metadata": {},
   "source": [
    "The previous module also computed a spearmans correlation score, which we can use to rank/sort the phase marker genes to then display their phase portraits."
   ]
  },
  {
   "cell_type": "code",
   "execution_count": null,
   "id": "709499a2-9cf2-4817-822f-dbc0951d923f",
   "metadata": {},
   "outputs": [],
   "source": [
    "if score_cell_cycle_genes:\n",
    "    s_genes, g2m_genes = \\\n",
    "        scv.utils.get_phase_marker_genes(adata)\n",
    "    s_genes = \\\n",
    "        scv.get_df(\n",
    "            adata[:, s_genes],\n",
    "            'spearmans_score',\n",
    "            sort_values=True).index\n",
    "    g2m_genes = \\\n",
    "        scv.get_df(\n",
    "            adata[:, g2m_genes],\n",
    "            'spearmans_score',\n",
    "            sort_values=True).index\n",
    "\n",
    "    kwargs = \\\n",
    "        dict(\n",
    "            frameon=False,\n",
    "            ylabel='cell cycle genes',\n",
    "            color='leiden',\n",
    "            ncols=3,\n",
    "            dpi=150)\n",
    "    scv.pl.scatter(adata, list(s_genes[:5]) + list(g2m_genes[:5]), **kwargs)"
   ]
  },
  {
   "cell_type": "code",
   "execution_count": null,
   "id": "4cd6a941-de5f-4626-a3d6-7b592b69486c",
   "metadata": {},
   "outputs": [],
   "source": [
    "if score_cell_cycle_genes:\n",
    "    scv.pl.velocity(\n",
    "        adata,\n",
    "        list(s_genes[:5]) + list(g2m_genes[:5]),\n",
    "        ncols=1,\n",
    "        add_outline=True,\n",
    "        dpi=150)"
   ]
  },
  {
   "cell_type": "markdown",
   "id": "66a1f65f-1224-4122-bc9a-198aada20a25",
   "metadata": {},
   "source": [
    "<div align=\"right\"><a href=\"#Table-of-contents\">Go to TOC</a></div>\n",
    "\n",
    "## Speed and coherence\n",
    "\n",
    "Two more useful stats:\n",
    "\n",
    "* The speed or rate of differentiation is given by the length of the velocity vector.\n",
    "* The coherence of the vector field (i.e., how a velocity vector correlates with its neighboring velocities) provides a measure of confidence."
   ]
  },
  {
   "cell_type": "code",
   "execution_count": null,
   "id": "603d0619-49a8-40ce-98b4-0c9ddb3a1b78",
   "metadata": {},
   "outputs": [],
   "source": [
    "scv.tl.velocity_confidence(adata)"
   ]
  },
  {
   "cell_type": "code",
   "execution_count": null,
   "id": "4d8cda8c-2397-4568-a73f-8fe9dad34596",
   "metadata": {},
   "outputs": [],
   "source": [
    "scv.pl.scatter(adata, c='velocity_length', cmap='coolwarm', perc=[5, 95], figsize=(9,7), dpi=150)"
   ]
  },
  {
   "cell_type": "code",
   "execution_count": null,
   "id": "12800783-ade5-4b4f-8db9-74569e17665d",
   "metadata": {},
   "outputs": [],
   "source": [
    "scv.pl.scatter(adata, c='velocity_confidence', cmap='coolwarm', perc=[5, 95], figsize=(9,7), dpi=150)"
   ]
  },
  {
   "cell_type": "markdown",
   "id": "7f708c27-9d44-4448-ad72-bd57ab6b8847",
   "metadata": {},
   "source": [
    "These provide insights where cells differentiate at a slower/faster pace, and where the direction is un-/determined."
   ]
  },
  {
   "cell_type": "code",
   "execution_count": null,
   "id": "267bce90-2638-4496-948a-6b461b49ff2a",
   "metadata": {},
   "outputs": [],
   "source": [
    "df = adata.obs.groupby('leiden')['velocity_length', 'velocity_confidence'].mean().T\n",
    "df.style.background_gradient(cmap='coolwarm', axis=1)"
   ]
  },
  {
   "cell_type": "markdown",
   "id": "5937a148-5754-4a42-92c3-939e193ed09f",
   "metadata": {},
   "source": [
    "<div align=\"right\"><a href=\"#Table-of-contents\">Go to TOC</a></div>\n",
    "\n",
    "## Velocity graph and pseudotime\n",
    "\n",
    "We can visualize the velocity graph to portray all velocity-inferred cell-to-cell connections/transitions. It can be confined to high-probability transitions by setting a `threshold`. The graph, for instance, indicates two phases of Epsilon cell production, coming from early and late Pre-endocrine cells."
   ]
  },
  {
   "cell_type": "code",
   "execution_count": null,
   "id": "fec41761-2142-4092-9368-e54ea700ca31",
   "metadata": {},
   "outputs": [],
   "source": [
    "scv.pl.velocity_graph(adata, threshold=.1, color='leiden', figsize=(9,7), dpi=150)"
   ]
  },
  {
   "cell_type": "markdown",
   "id": "d8d90c26-da61-4f9f-961a-54da5f5e21bd",
   "metadata": {},
   "source": [
    "Further, the graph can be used to draw descendents/anscestors coming from a specified cell. Here, a pre-endocrine cell is traced to its potential fate."
   ]
  },
  {
   "cell_type": "code",
   "execution_count": null,
   "id": "3f50a578-6f39-4fc4-9e20-661bd95b0436",
   "metadata": {},
   "outputs": [],
   "source": [
    "x, y = \\\n",
    "    scv.utils.get_cell_transitions(\n",
    "        adata,\n",
    "        basis='umap',\n",
    "        starting_cell=70)\n",
    "ax = \\\n",
    "    scv.pl.velocity_graph(\n",
    "        adata,\n",
    "        c='lightgrey',\n",
    "        edge_width=.05,\n",
    "        show=False,\n",
    "        dpi=150)\n",
    "ax = \\\n",
    "    scv.pl.scatter(\n",
    "        adata,\n",
    "        x=x,\n",
    "        y=y,\n",
    "        s=120,\n",
    "        c='ascending',\n",
    "        cmap='gnuplot',\n",
    "        ax=ax,\n",
    "        figsize=(9,7),\n",
    "        dpi=150)"
   ]
  },
  {
   "cell_type": "markdown",
   "id": "46872050-cd34-4240-a56c-399ec7ff2037",
   "metadata": {},
   "source": [
    "Finally, based on the velocity graph, a velocity pseudotime can be computed. After inferring a distribution over root cells from the graph, it measures the average number of steps it takes to reach a cell after walking along the graph starting from the root cells.\n",
    "\n",
    "Contrarily to diffusion pseudotime, it implicitly infers the root cells and is based on the directed velocity graph instead of the similarity-based diffusion kernel.\n"
   ]
  },
  {
   "cell_type": "code",
   "execution_count": null,
   "id": "8c8c286e-202e-4fde-af91-029e8d27e408",
   "metadata": {},
   "outputs": [],
   "source": [
    "scv.tl.velocity_pseudotime(adata)\n",
    "scv.pl.scatter(adata, color='velocity_pseudotime', cmap='gnuplot', figsize=(9,7), dpi=150)"
   ]
  },
  {
   "cell_type": "markdown",
   "id": "449b8073-899f-45d3-9871-969d421700a2",
   "metadata": {},
   "source": [
    "<div align=\"right\"><a href=\"#Table-of-contents\">Go to TOC</a></div>\n",
    "\n",
    "## PAGA velocity graph\n",
    "\n",
    "[PAGA](https://doi.org/10.1186/s13059-019-1663-x) graph abstraction has benchmarked as top-performing method for trajectory inference. It provides a graph-like map of the data topology with weighted edges corresponding to the connectivity between two clusters. Here, PAGA is extended by velocity-inferred directionality."
   ]
  },
  {
   "cell_type": "code",
   "execution_count": null,
   "id": "a9e1598d-2f0f-4d50-a24c-d5243551b11a",
   "metadata": {},
   "outputs": [],
   "source": [
    "scv.tl.paga(adata, groups='leiden')\n",
    "df = scv.get_df(adata, 'paga/transitions_confidence', precision=2).T\n",
    "df.style.background_gradient(cmap='Blues').format('{:.2g}')"
   ]
  },
  {
   "cell_type": "code",
   "execution_count": null,
   "id": "ef805dbf-a579-4b34-a8a0-b24e00fad8a9",
   "metadata": {},
   "outputs": [],
   "source": [
    "scv.pl.paga(\n",
    "    adata,\n",
    "    basis='umap',\n",
    "    size=50,\n",
    "    alpha=.1,\n",
    "    dpi=150,\n",
    "    figsize=(9,7),\n",
    "    min_edge_width=2,\n",
    "    node_size_scale=1.2)"
   ]
  },
  {
   "cell_type": "markdown",
   "id": "29d94576-c9a3-4bfb-a2ca-df1a608b14a6",
   "metadata": {},
   "source": [
    "<div align=\"right\"><a href=\"#Table-of-contents\">Go to TOC</a></div>\n",
    "\n",
    "## References\n",
    "* [scVelo](https://scvelo.readthedocs.io/)\n",
    "* [RNA Velocity Basics](https://scvelo.readthedocs.io/VelocityBasics/)\n",
    "* [Dynamical Modeling](https://scvelo.readthedocs.io/DynamicalModeling/)\n",
    "\n",
    "\n",
    "## Acknowledgement\n",
    "The Imperial BRC Genomics Facility is supported by NIHR funding to the Imperial Biomedical Research Centre."
   ]
  },
  {
   "cell_type": "code",
   "execution_count": null,
   "id": "b5dfa096-ca24-4c53-86f7-a5afaef779fe",
   "metadata": {},
   "outputs": [],
   "source": []
  }
 ],
 "metadata": {
  "kernelspec": {
   "display_name": "Python 3",
   "language": "python",
   "name": "python3"
  },
  "language_info": {
   "codemirror_mode": {
    "name": "ipython",
    "version": 3
   },
   "file_extension": ".py",
   "mimetype": "text/x-python",
   "name": "python",
   "nbconvert_exporter": "python",
   "pygments_lexer": "ipython3",
   "version": "3.7.10"
  }
 },
 "nbformat": 4,
 "nbformat_minor": 5
}
