{
 "cells": [
  {
   "cell_type": "markdown",
   "metadata": {},
   "source": [
    "# Single cell data analysis using Scanpy\n",
    "\n",
    "* __Notebook version__: `v0.0.1`\n",
    "* __Created by:__ `Imperial BRC Genomics Facility`\n",
    "* __Maintained by:__ `Imperial BRC Genomics Facility`\n",
    "* __Docker image:__ `imperialgenomicsfacility/scanpy-notebook-image:release-v0.0.1`\n",
    "* __Github repository:__ [imperial-genomics-facility/scanpy-notebook-image](https://github.com/imperial-genomics-facility/scanpy-notebook-image)\n",
    "* __Created on:__ `2020-Jan-19 21:20`\n",
    "* __Contact us:__ [Imperial BRC Genomics Facility](https://www.imperial.ac.uk/medicine/research-and-impact/facilities/genomics-facility/contact/)\n",
    "* __License:__ [Apache License 2.0](https://github.com/imperial-genomics-facility/scanpy-notebook-image/blob/master/LICENSE)\n",
    "\n",
    "## Table of contents\n",
    "  * [Introduction](#Introduction)\n",
    "  * [Loading required libraries](#Loading-required-libraries)\n",
    "  * [Reading data from Cellranger output](#Reading-data-from-Cellranger-output)\n",
    "  * [Data processing and visualization](#Data-processing-and-visualization)\n",
    "    * [Checking highly variable genes](#Checking-highly-variable-genes)\n",
    "    * [Quality control](#Quality-control)\n",
    "      * [Computing metrics for cell QC](#Computing-metrics-for-cell-QC)\n",
    "      * [Plotting MT gene fractions](#Plottng-MT-gene-fractions)\n",
    "      * [Count depth distribution](#Count-depth-distribution)\n",
    "      * [Gene count distribution](#Gene-count-distribution)\n",
    "      * [Counting cells per gene](#Counting-cells-per-gene)\n",
    "      * [Ploting count depth vs MT fraction](#Ploting-count-depth-vs-MT-fraction)\n",
    "      * [Checking thresholds and filtering data](#Checking-thresholds-and-filtering-data)\n",
    "    * [Normalization](#Normalization)\n",
    "    * [Highly variable genes](#Highly-variable-genes)\n",
    "    * [Regressing out technical effects](#Regressing-out-technical-effects)\n",
    "    * [Principal component analysis](#Principal-component-analysis)\n",
    "    * [Neighborhood graph](#Neighborhood-graph)\n",
    "      * [Clustering the neighborhood graph](#Clustering-the-neighborhood-graph)\n",
    "      * [Embed the neighborhood graph using UMAP](#Embed-the-neighborhood-graph-using-UMAP)\n",
    "        * [Plotting 2D UMAP](#Plotting-2D-UMAP)\n",
    "      * [Embed the neighborhood graph using tSNE](#Embed-the-neighborhood-graph-using-tSNE)\n",
    "    * [Finding marker genes](#Finding-marker-genes)\n",
    "      * [Stacked violin plot of ranked genes](#Stacked-violin-plot-of-ranked-genes)\n",
    "      * [Dot plot of ranked genes](#Dot-plot-of-ranked-genes)\n",
    "      * [Matrix plot of ranked genes](#Matrix-plot-of-ranked-genes)\n",
    "      * [Heatmap plot of ranked genes](#Heatmap-plot-of-ranked-genes)\n",
    "      * [Tracks plot of ranked genes](#Tracks-plot-of-ranked-genes)\n",
    "  * [References](#References)\n",
    "  * [Acknowledgement](#Acknowledgement)"
   ]
  },
  {
   "cell_type": "markdown",
   "metadata": {},
   "source": [
    "## Introduction\n",
    "This notebook for running single cell data analysis (for a single sample) using Scanpy package. Most of the codes and documentation used in this notebook has been copied from the following sources:\n",
    "\n",
    "* [Scanpy - Preprocessing and clustering 3k PBMCs](https://scanpy-tutorials.readthedocs.io/en/latest/pbmc3k.html)\n",
    "* [Single-cell-tutorial](https://github.com/theislab/single-cell-tutorial)"
   ]
  },
  {
   "cell_type": "markdown",
   "metadata": {},
   "source": [
    "## Loading required libraries"
   ]
  },
  {
   "cell_type": "markdown",
   "metadata": {},
   "source": [
    "We need  to load all the required libraries to environment before we can run any of the analysis steps. Also, we are checking the version information for most of the major packages used for analysis."
   ]
  },
  {
   "cell_type": "code",
   "execution_count": null,
   "metadata": {},
   "outputs": [],
   "source": [
    "%matplotlib inline\n",
    "import numpy as np\n",
    "import pandas as pd\n",
    "import scanpy as sc\n",
    "import seaborn as sns\n",
    "import matplotlib.pyplot as plt\n",
    "from copy import deepcopy\n",
    "import plotly.graph_objs as go\n",
    "from plotly.offline import download_plotlyjs, init_notebook_mode, plot, iplot\n",
    "sc.settings.verbosity = 0\n",
    "sc.logging.print_versions()"
   ]
  },
  {
   "cell_type": "markdown",
   "metadata": {},
   "source": [
    "We are setting the output file path to $/tmp/scanpy\\_output.h5ad$"
   ]
  },
  {
   "cell_type": "code",
   "execution_count": null,
   "metadata": {},
   "outputs": [],
   "source": [
    "results_file = '/tmp/scanpy_output.h5ad'"
   ]
  },
  {
   "cell_type": "markdown",
   "metadata": {},
   "source": [
    "The following steps are only required for downloading test data from 10X Genomics's website."
   ]
  },
  {
   "cell_type": "code",
   "execution_count": null,
   "metadata": {},
   "outputs": [],
   "source": [
    "%%bash\n",
    "## DELETE ME\n",
    "rm -rf cache\n",
    "rm -rf /tmp/data\n",
    "mkdir -p /tmp/data\n",
    "wget -q -O /tmp/data/pbmc3k_filtered_gene_bc_matrices.tar.gz \\\n",
    "  /tmp/data http://cf.10xgenomics.com/samples/cell-exp/1.1.0/pbmc3k/pbmc3k_filtered_gene_bc_matrices.tar.gz\n",
    "cd /tmp/data\n",
    "tar -xzf pbmc3k_filtered_gene_bc_matrices.tar.gz"
   ]
  },
  {
   "cell_type": "markdown",
   "metadata": {},
   "source": [
    "<div align=\"right\"><a href=\"#Table-of-contents\">Go to TOC</a></div>\n",
    "\n",
    "## Reading data from Cellranger output"
   ]
  },
  {
   "cell_type": "markdown",
   "metadata": {},
   "source": [
    "Load the Cellranger output to Scanpy"
   ]
  },
  {
   "cell_type": "code",
   "execution_count": null,
   "metadata": {},
   "outputs": [],
   "source": [
    "adata = \\\n",
    "  sc.read_10x_mtx(\n",
    "    '/tmp/data/filtered_gene_bc_matrices/hg19/',\n",
    "    var_names='gene_symbols',\n",
    "    cache=True)"
   ]
  },
  {
   "cell_type": "markdown",
   "metadata": {},
   "source": [
    "Converting the gene names to unique values"
   ]
  },
  {
   "cell_type": "code",
   "execution_count": null,
   "metadata": {},
   "outputs": [],
   "source": [
    "adata.var_names_make_unique()"
   ]
  },
  {
   "cell_type": "markdown",
   "metadata": {},
   "source": [
    "Checking the data dimensions before checking QC"
   ]
  },
  {
   "cell_type": "code",
   "execution_count": null,
   "metadata": {},
   "outputs": [],
   "source": [
    "adata"
   ]
  },
  {
   "cell_type": "markdown",
   "metadata": {},
   "source": [
    "<div align=\"right\"><a href=\"#Table-of-contents\">Go to TOC</a></div>\n",
    "\n",
    "## Data processing and visualization"
   ]
  },
  {
   "cell_type": "markdown",
   "metadata": {},
   "source": [
    "### Checking highly variable genes"
   ]
  },
  {
   "cell_type": "markdown",
   "metadata": {},
   "source": [
    "Computing fraction of counts assigned to each gene over all cells. The top genes with the highest mean fraction over all cells are\n",
    "plotted as boxplots."
   ]
  },
  {
   "cell_type": "code",
   "execution_count": null,
   "metadata": {},
   "outputs": [],
   "source": [
    "sc.pl.highest_expr_genes(adata, n_top=20)"
   ]
  },
  {
   "cell_type": "markdown",
   "metadata": {},
   "source": [
    "<div align=\"right\"><a href=\"#Table-of-contents\">Go to TOC</a></div>\n",
    "\n",
    "### Quality control"
   ]
  },
  {
   "cell_type": "markdown",
   "metadata": {},
   "source": [
    "Checking $obs$ section of the AnnData object"
   ]
  },
  {
   "cell_type": "code",
   "execution_count": null,
   "metadata": {},
   "outputs": [],
   "source": [
    "adata.obs.head()"
   ]
  },
  {
   "cell_type": "markdown",
   "metadata": {},
   "source": [
    "Checking the $var$ section of the AnnData object"
   ]
  },
  {
   "cell_type": "code",
   "execution_count": null,
   "metadata": {},
   "outputs": [],
   "source": [
    "adata.var.head()"
   ]
  },
  {
   "cell_type": "markdown",
   "metadata": {},
   "source": [
    "<div align=\"right\"><a href=\"#Table-of-contents\">Go to TOC</a></div>\n",
    "\n",
    "#### Computing metrics for cell QC"
   ]
  },
  {
   "cell_type": "markdown",
   "metadata": {},
   "source": [
    "Listing the Mitochondrial genes detected in the cell population"
   ]
  },
  {
   "cell_type": "code",
   "execution_count": null,
   "metadata": {},
   "outputs": [],
   "source": [
    "mt_genes = 0\n",
    "mt_genes = [gene for gene in adata.var_names if gene.startswith('MT-')]\n",
    "mito_genes = adata.var_names.str.startswith('MT-')\n",
    "if len(mt_genes)==0:\n",
    "    print('Looking for mito genes with \"mt-\" prefix')\n",
    "    mt_genes = [gene for gene in adata.var_names if gene.startswith('mt-')]\n",
    "    mito_genes = adata.var_names.str.startswith('mt-')\n",
    "\n",
    "if len(mt_genes)==0:\n",
    "    print(\"No mitochondrial genes found\")\n",
    "else:\n",
    "    print(\"Mitochondrial genes: count: {0}, lists: {1}\".format(len(mt_genes),mt_genes))"
   ]
  },
  {
   "cell_type": "markdown",
   "metadata": {},
   "source": [
    "Typical quality measures for assessing the quality of a cell includes the following components\n",
    "* Number of molecule counts (UMIs or $n\\_counts$ )\n",
    "* Number of expressed genes ($n\\_genes$)\n",
    "* Fraction of counts that are mitochondrial ($percent\\_mito$)\n",
    "\n",
    "We are calculating the above mentioned details using the following codes"
   ]
  },
  {
   "cell_type": "code",
   "execution_count": null,
   "metadata": {},
   "outputs": [],
   "source": [
    "adata.obs['mito_counts'] =  np.sum(adata[:, mito_genes].X, axis=1).A1\n",
    "adata.obs['percent_mito'] = \\\n",
    "  np.sum(adata[:, mito_genes].X, axis=1).A1 / np.sum(adata.X, axis=1).A1\n",
    "adata.obs['n_counts'] = adata.X.sum(axis=1).A1\n",
    "adata.obs['log_counts'] = np.log(adata.obs['n_counts'])\n",
    "adata.obs['n_genes'] = (adata.X > 0).sum(1)"
   ]
  },
  {
   "cell_type": "markdown",
   "metadata": {},
   "source": [
    "Checking $obs$ section of the AnnData object again"
   ]
  },
  {
   "cell_type": "code",
   "execution_count": null,
   "metadata": {},
   "outputs": [],
   "source": [
    "adata.obs.head()"
   ]
  },
  {
   "cell_type": "markdown",
   "metadata": {},
   "source": [
    "Sorting barcodes based on the $percent\\_mito$ column"
   ]
  },
  {
   "cell_type": "code",
   "execution_count": null,
   "metadata": {},
   "outputs": [],
   "source": [
    "adata.obs.sort_values('percent_mito',ascending=False).head()"
   ]
  },
  {
   "cell_type": "markdown",
   "metadata": {},
   "source": [
    "A high fraction of mitochondrial reads being picked up can indicate cell stress, as there is a low proportion of nuclear mRNA in the cell. It should be noted that high mitochondrial RNA fractions can also be biological signals indicating elevated respiration. <p/>\n",
    "\n",
    "Cell barcodes with high count depth, few detected genes and high fraction of mitochondrial counts may indicate cells whose cytoplasmic mRNA has leaked out due to a broaken membrane and only the mRNA located in the mitochrondia has survived. <p/>\n",
    "\n",
    "Cells with high UMI counts and detected genes may represent dublets (it requires further checking)."
   ]
  },
  {
   "cell_type": "markdown",
   "metadata": {},
   "source": [
    "<div align=\"right\"><a href=\"#Table-of-contents\">Go to TOC</a></div>\n",
    "\n",
    "#### Ploting MT gene fractions"
   ]
  },
  {
   "cell_type": "code",
   "execution_count": null,
   "metadata": {},
   "outputs": [],
   "source": [
    "sc.pl.violin(\\\n",
    "  adata,\n",
    "  ['n_genes', 'n_counts', 'percent_mito'],\n",
    "  jitter=0.4,\n",
    "  log=False,\n",
    "  multi_panel=True)"
   ]
  },
  {
   "cell_type": "markdown",
   "metadata": {},
   "source": [
    "Violin plot (above) shows the computed quality measures of UMI counts, gene counts and fraction of mitochondrial counts."
   ]
  },
  {
   "cell_type": "code",
   "execution_count": null,
   "metadata": {},
   "outputs": [],
   "source": [
    "ax = sc.pl.scatter(adata, 'n_counts', 'n_genes', color='percent_mito',show=False)\n",
    "ax.set_title('Fraction mitochondrial counts', fontsize=12)\n",
    "ax.set_xlabel(\"Count depth\",fontsize=12)\n",
    "ax.set_ylabel(\"Number of genes\",fontsize=12)\n",
    "ax.tick_params(labelsize=12)\n",
    "ax.axhline(700, 0,1, color='red')\n",
    "ax.axvline(1500, 0,1, color='red')"
   ]
  },
  {
   "cell_type": "markdown",
   "metadata": {},
   "source": [
    "The above scatter plot shows number of genes vs number of counts with $MT$ fraction information. We will be using a cutoff of 1500 counts and 700 genes (<span style=\"color:red\">red lines</span>) to filter out dying cells. "
   ]
  },
  {
   "cell_type": "code",
   "execution_count": null,
   "metadata": {},
   "outputs": [],
   "source": [
    "ax = sc.pl.scatter(adata[adata.obs['n_counts']<10000], 'n_counts', 'n_genes', color='percent_mito',show=False)\n",
    "ax.set_title('Fraction mitochondrial counts', fontsize=12)\n",
    "ax.set_xlabel(\"Count depth\",fontsize=12)\n",
    "ax.set_ylabel(\"Number of genes\",fontsize=12)\n",
    "ax.tick_params(labelsize=12)\n",
    "ax.axhline(700, 0,1, color='red')\n",
    "ax.axvline(1500, 0,1, color='red')"
   ]
  },
  {
   "cell_type": "markdown",
   "metadata": {},
   "source": [
    "A similar scatter plot, but this time we have restricted the counts to below _10K_"
   ]
  },
  {
   "cell_type": "markdown",
   "metadata": {},
   "source": [
    "<div align=\"right\"><a href=\"#Table-of-contents\">Go to TOC</a></div>\n",
    "\n",
    "#### Count depth distribution"
   ]
  },
  {
   "cell_type": "code",
   "execution_count": null,
   "metadata": {},
   "outputs": [],
   "source": [
    "count_data = adata.obs['n_counts'].copy()\n",
    "count_data.sort_values(inplace=True, ascending=False)\n",
    "order =  range(1, len(count_data)+1)\n",
    "ax = plt.semilogy(order, count_data, 'b-')\n",
    "plt.gca().axhline(1500, 0,1, color='red')\n",
    "plt.xlabel(\"Barcode rank\", fontsize=12)\n",
    "plt.ylabel(\"Count depth\", fontsize=12)\n",
    "plt.tick_params(labelsize=12)"
   ]
  },
  {
   "cell_type": "markdown",
   "metadata": {},
   "source": [
    "The above plot is similar to _UMI counts_ vs _Barcodes_ plot of Cellranger report and it shows the count depth distribution from high to low count depths. This plot can be used to decide the threshold of count depth to filter out empty droplets."
   ]
  },
  {
   "cell_type": "code",
   "execution_count": null,
   "metadata": {},
   "outputs": [],
   "source": [
    "ax = sns.distplot(adata.obs['n_counts'], kde=False)\n",
    "ax.set_xlabel(\"Count depth\",fontsize=12)\n",
    "ax.set_ylabel(\"Frequency\",fontsize=12)\n",
    "ax.axvline(1500, 0,1, color='red')"
   ]
  },
  {
   "cell_type": "markdown",
   "metadata": {},
   "source": [
    "The above histogram plot shows the distribution of count depth and the <span style=\"color:red\">red line</span> marks the count threshold 1500."
   ]
  },
  {
   "cell_type": "code",
   "execution_count": null,
   "metadata": {},
   "outputs": [],
   "source": [
    "if (adata.obs['n_counts'].max() - 10000)> 10000:\n",
    "    print('Checking counts above 10K')\n",
    "    ax = sns.distplot(adata.obs['n_counts'][adata.obs['n_counts']>10000], kde=False, bins=60)\n",
    "    ax.set_xlabel(\"Count depth\",fontsize=12)\n",
    "    ax.set_ylabel(\"Frequency\",fontsize=12)\n",
    "else:\n",
    "    print(\"Skip checking counts above 10K\")"
   ]
  },
  {
   "cell_type": "code",
   "execution_count": null,
   "metadata": {},
   "outputs": [],
   "source": [
    "if adata.obs['n_counts'].max() > 2000:\n",
    "  print('Zooming into first 2000 counts')\n",
    "  ax = sns.distplot(adata.obs['n_counts'][adata.obs['n_counts']<2000], kde=False, bins=60)\n",
    "  ax.set_xlabel(\"Count depth\",fontsize=12)\n",
    "  ax.set_ylabel(\"Frequency\",fontsize=12)\n",
    "  ax.axvline(1500, 0,1, color='red')\n",
    "else:\n",
    "  print(\"Failed to zoom into the counts below 2K\")"
   ]
  },
  {
   "cell_type": "markdown",
   "metadata": {},
   "source": [
    "<div align=\"right\"><a href=\"#Table-of-contents\">Go to TOC</a></div>\n",
    "\n",
    "#### Gene count distribution"
   ]
  },
  {
   "cell_type": "code",
   "execution_count": null,
   "metadata": {},
   "outputs": [],
   "source": [
    "ax = sns.distplot(adata.obs['n_genes'], kde=False)\n",
    "ax.set_xlabel(\"Number of genes\",fontsize=12)\n",
    "ax.set_ylabel(\"Frequency\",fontsize=12)\n",
    "ax.tick_params(labelsize=12)\n",
    "ax.axvline(700, 0,1, color='red')"
   ]
  },
  {
   "cell_type": "markdown",
   "metadata": {},
   "source": [
    "The above histogram plot shows the distribution of gene counts and the <span style=\"color:red\">red line</span> marks the gene count threshold 700."
   ]
  },
  {
   "cell_type": "code",
   "execution_count": null,
   "metadata": {},
   "outputs": [],
   "source": [
    "if adata.obs['n_genes'].max() > 1000:\n",
    "  print('Zooming into first 1000 gene counts')\n",
    "  ax = sns.distplot(adata.obs['n_genes'][adata.obs['n_genes']<1000], kde=False,bins=60)\n",
    "  ax.set_xlabel(\"Number of genes\",fontsize=12)\n",
    "  ax.set_ylabel(\"Frequency\",fontsize=12)\n",
    "  ax.tick_params(labelsize=12)\n",
    "  ax.axvline(700, 0,1, color='red')\n",
    "else:\n",
    "  print(\"Failed to zoom into the gene counts below 1K\")"
   ]
  },
  {
   "cell_type": "markdown",
   "metadata": {},
   "source": [
    "We use a permissive filtering threshold of 1500 counts and 700 gene counts to filter out the dying cells or empty droplets with ambient RNA."
   ]
  },
  {
   "cell_type": "markdown",
   "metadata": {},
   "source": [
    "<div align=\"right\"><a href=\"#Table-of-contents\">Go to TOC</a></div>\n",
    "\n",
    "#### Counting cells per gene"
   ]
  },
  {
   "cell_type": "code",
   "execution_count": null,
   "metadata": {},
   "outputs": [],
   "source": [
    "adata.var['cells_per_gene'] = np.sum(adata.X > 0, 0).T\n",
    "\n",
    "ax = sns.distplot(adata.var['cells_per_gene'][adata.var['cells_per_gene'] < 100], kde=False, bins=60)\n",
    "ax.set_xlabel(\"Number of cells\",fontsize=12)\n",
    "ax.set_ylabel(\"Frequency\",fontsize=12)\n",
    "ax.set_title('Cells per gene', fontsize=12)\n",
    "ax.tick_params(labelsize=12)"
   ]
  },
  {
   "cell_type": "markdown",
   "metadata": {},
   "source": [
    "<div align=\"right\"><a href=\"#Table-of-contents\">Go to TOC</a></div>\n",
    "\n",
    "#### Plotting count depth vs MT fraction"
   ]
  },
  {
   "cell_type": "code",
   "execution_count": null,
   "metadata": {},
   "outputs": [],
   "source": [
    "ax = sc.pl.scatter(adata, x='n_counts', y='percent_mito',show=False)\n",
    "ax.set_title('Count depth vs Fraction mitochondrial counts', fontsize=12)\n",
    "ax.set_xlabel(\"Count depth\",fontsize=12)\n",
    "ax.set_ylabel(\"Fraction mitochondrial counts\",fontsize=12)\n",
    "ax.tick_params(labelsize=12)\n",
    "ax.axhline(0.2, 0,1, color='red')"
   ]
  },
  {
   "cell_type": "markdown",
   "metadata": {},
   "source": [
    "The scatter plot showing the count depth vs MT fraction counts and the <span style=\"color:red\">red line</span> shows the default cutoff value for MT fraction 0.2"
   ]
  },
  {
   "cell_type": "markdown",
   "metadata": {},
   "source": [
    "<div align=\"right\"><a href=\"#Table-of-contents\">Go to TOC</a></div>\n",
    "\n",
    "### Checking thresholds and filtering data"
   ]
  },
  {
   "cell_type": "code",
   "execution_count": null,
   "metadata": {},
   "outputs": [],
   "source": [
    "print('Total number of cells: {0}'.format(adata.n_obs))\n",
    "\n",
    "min_counts_threshold = 1500\n",
    "max_counts_threshold = 40000\n",
    "min_gene_counts_threshold = 700\n",
    "max_mito_pct_threshold = 0.2\n",
    "\n",
    "if adata[adata.obs['n_counts'] > min_counts_threshold].n_obs < 1000:\n",
    "    min_counts_threshold = 1000\n",
    "\n",
    "if adata[adata.obs['n_counts'] < max_counts_threshold].n_obs < 1000:\n",
    "    max_counts_threshold = 50000\n",
    "    \n",
    "if adata[adata.obs['n_genes'] > min_gene_counts_threshold].n_obs < 1000:\n",
    "    min_gene_counts_threshold = 400\n",
    "    \n",
    "if adata[adata.obs['percent_mito'] < max_mito_pct_threshold].n_obs < 1000:\n",
    "    max_mito_pct_threshold = 0.02\n",
    "\n",
    "sc.pp.filter_cells(adata, min_counts = min_counts_threshold)\n",
    "print('Number of cells after min count ({0}) filter: {1}'.format(min_counts_threshold,adata.n_obs))\n",
    "\n",
    "sc.pp.filter_cells(adata, max_counts = max_counts_threshold)\n",
    "print('Number of cells after max count ({0}) filter: {1}'.format(max_counts_threshold,adata.n_obs))\n",
    "\n",
    "sc.pp.filter_cells(adata, min_genes = min_gene_counts_threshold)\n",
    "print('Number of cells after gene ({0}) filter: {1}'.format(min_gene_counts_threshold,adata.n_obs))\n",
    "\n",
    "adata = adata[adata.obs['percent_mito'] < max_mito_pct_threshold]\n",
    "print('Number of cells after MT fraction ({0}) filter: {1}'.format(max_mito_pct_threshold,adata.n_obs))\n",
    "\n",
    "print('Total number of cells after filtering: {0}'.format(adata.n_obs))"
   ]
  },
  {
   "cell_type": "markdown",
   "metadata": {},
   "source": [
    "<div align=\"right\"><a href=\"#Table-of-contents\">Go to TOC</a></div>\n",
    "\n",
    "### Normalization"
   ]
  },
  {
   "cell_type": "code",
   "execution_count": null,
   "metadata": {},
   "outputs": [],
   "source": [
    "sc.pp.normalize_total(adata, target_sum=1e4)"
   ]
  },
  {
   "cell_type": "markdown",
   "metadata": {},
   "source": [
    "We are using a simple total-count based normalization (library-size correct) to transform the data matrix $X$ to 10,000 reads per cell, so that counts become comparable among cells."
   ]
  },
  {
   "cell_type": "code",
   "execution_count": null,
   "metadata": {},
   "outputs": [],
   "source": [
    "sc.pp.log1p(adata)"
   ]
  },
  {
   "cell_type": "markdown",
   "metadata": {},
   "source": [
    "Then logarithmize the data matrix"
   ]
  },
  {
   "cell_type": "code",
   "execution_count": null,
   "metadata": {},
   "outputs": [],
   "source": [
    "adata.raw = adata"
   ]
  },
  {
   "cell_type": "markdown",
   "metadata": {},
   "source": [
    "Copying the normalized and logarithmized raw gene expression data to the `.raw` attribute of the AnnData object for later use."
   ]
  },
  {
   "cell_type": "markdown",
   "metadata": {},
   "source": [
    "<div align=\"right\"><a href=\"#Table-of-contents\">Go to TOC</a></div>\n",
    "\n",
    "### Highly variable genes"
   ]
  },
  {
   "cell_type": "markdown",
   "metadata": {},
   "source": [
    "Following codes blocks are used to identify the highly variable genes (HGV) to further reduce the dimensionality of the dataset and to include only the most informative genes. HGVs will be used for clustering, trajectory inference, and dimensionality reduction/visualization."
   ]
  },
  {
   "cell_type": "code",
   "execution_count": null,
   "metadata": {},
   "outputs": [],
   "source": [
    "sc.pp.highly_variable_genes(adata, flavor='seurat', min_mean=0.0125, max_mean=3, min_disp=0.5)\n",
    "seurat_hgv = np.sum(adata.var['highly_variable'])\n",
    "print(\"Counts of HGVs: {0}\".format(seurat_hgv))\n",
    "sc.pl.highly_variable_genes(adata)"
   ]
  },
  {
   "cell_type": "markdown",
   "metadata": {},
   "source": [
    "We use a 'seurat' flavor based HGV detection step. Then, we run the following codes to do the actual filtering of data. The plots show how the data was normalized to select highly variable genes irrespective of the mean expression of the genes. This is achieved by using the index of dispersion which divides by mean expression, and subsequently binning the data by mean expression and selecting the most variable genes within each bin."
   ]
  },
  {
   "cell_type": "code",
   "execution_count": null,
   "metadata": {},
   "outputs": [],
   "source": [
    "adata = adata[:, adata.var.highly_variable]"
   ]
  },
  {
   "cell_type": "markdown",
   "metadata": {},
   "source": [
    "<div align=\"right\"><a href=\"#Table-of-contents\">Go to TOC</a></div>\n",
    "\n",
    "### Regressing out technical effects\n",
    "\n",
    "Normalization scales count data to make gene counts comparable between cells. But it still contain unwanted variability. One of the most prominent technical covariates in single-cell data is count depth. Regress out effects of total counts per cell and the percentage of mitochondrial genes expressed can improve the performance of trajectory inference algorithms."
   ]
  },
  {
   "cell_type": "code",
   "execution_count": null,
   "metadata": {},
   "outputs": [],
   "source": [
    "sc.pp.regress_out(adata, ['n_counts', 'percent_mito'])"
   ]
  },
  {
   "cell_type": "markdown",
   "metadata": {},
   "source": [
    "Scale each gene to unit variance. Clip values exceeding standard deviation 10."
   ]
  },
  {
   "cell_type": "code",
   "execution_count": null,
   "metadata": {},
   "outputs": [],
   "source": [
    "sc.pp.scale(adata, max_value=10)"
   ]
  },
  {
   "cell_type": "markdown",
   "metadata": {},
   "source": [
    "<div align=\"right\"><a href=\"#Table-of-contents\">Go to TOC</a></div>\n",
    "\n",
    "### Principal component analysis"
   ]
  },
  {
   "cell_type": "markdown",
   "metadata": {},
   "source": [
    "Reduce the dimensionality of the data by running principal component analysis (PCA), which reveals the main axes of variation and denoises the data."
   ]
  },
  {
   "cell_type": "code",
   "execution_count": null,
   "metadata": {},
   "outputs": [],
   "source": [
    "sc.tl.pca(adata, svd_solver='arpack')"
   ]
  },
  {
   "cell_type": "code",
   "execution_count": null,
   "metadata": {},
   "outputs": [],
   "source": [
    "sc.pl.pca(adata,color=['CST3'])"
   ]
  },
  {
   "cell_type": "markdown",
   "metadata": {},
   "source": [
    "Let us inspect the contribution of single PCs to the total variance in the data. This gives us information about how many PCs we should consider in order to compute the neighborhood relations of cells."
   ]
  },
  {
   "cell_type": "code",
   "execution_count": null,
   "metadata": {},
   "outputs": [],
   "source": [
    "sc.pl.pca_variance_ratio(adata, log=True)"
   ]
  },
  {
   "cell_type": "markdown",
   "metadata": {},
   "source": [
    "Let us compute the neighborhood graph of cells using the PCA representation of the data matrix."
   ]
  },
  {
   "cell_type": "markdown",
   "metadata": {},
   "source": [
    "<div align=\"right\"><a href=\"#Table-of-contents\">Go to TOC</a></div>\n",
    "\n",
    "### Neighborhood graph\n",
    "Computing the neighborhood graph of cells using the PCA representation of the data matrix."
   ]
  },
  {
   "cell_type": "code",
   "execution_count": null,
   "metadata": {},
   "outputs": [],
   "source": [
    "sc.pp.neighbors(adata, n_neighbors=10, n_pcs=40)"
   ]
  },
  {
   "cell_type": "markdown",
   "metadata": {},
   "source": [
    "<div align=\"right\"><a href=\"#Table-of-contents\">Go to TOC</a></div>\n",
    "\n",
    "#### Clustering the neighborhood graph\n",
    "Scanpy documentation recommends the Leiden graph-clustering method (community detection based on optimizing modularity) by Traag *et al.* (2018). Note that Leiden clustering directly clusters the neighborhood graph of cells, which we have already computed in the previous section."
   ]
  },
  {
   "cell_type": "code",
   "execution_count": null,
   "metadata": {},
   "outputs": [],
   "source": [
    "sc.tl.leiden(adata)"
   ]
  },
  {
   "cell_type": "markdown",
   "metadata": {},
   "source": [
    "<div align=\"right\"><a href=\"#Table-of-contents\">Go to TOC</a></div>\n",
    "\n",
    "#### Embed the neighborhood graph using UMAP"
   ]
  },
  {
   "cell_type": "markdown",
   "metadata": {},
   "source": [
    "Scanpy documentation suggests embedding the graph in 2 dimensions using UMAP (McInnes et al., 2018), see below. It is potentially more faithful to the global connectivity of the manifold than tSNE, i.e., it better preservers trajectories.\n"
   ]
  },
  {
   "cell_type": "markdown",
   "metadata": {},
   "source": [
    "<div align=\"right\"><a href=\"#Table-of-contents\">Go to TOC</a></div>\n",
    "\n",
    "##### Plotting 2D UMAP"
   ]
  },
  {
   "cell_type": "code",
   "execution_count": null,
   "metadata": {},
   "outputs": [],
   "source": [
    "sc.tl.umap(adata,n_components=2)"
   ]
  },
  {
   "cell_type": "code",
   "execution_count": null,
   "metadata": {},
   "outputs": [],
   "source": [
    "sc.pl.umap(adata, color=['CST3'])"
   ]
  },
  {
   "cell_type": "markdown",
   "metadata": {},
   "source": [
    "plot the scaled and corrected gene expression by `use_raw=False`"
   ]
  },
  {
   "cell_type": "code",
   "execution_count": null,
   "metadata": {},
   "outputs": [],
   "source": [
    "sc.pl.umap(adata, color=['leiden'],use_raw=False)"
   ]
  },
  {
   "cell_type": "markdown",
   "metadata": {},
   "source": [
    "<div align=\"right\"><a href=\"#Table-of-contents\">Go to TOC</a></div>\n",
    "\n",
    "#### Embed the neighborhood graph using tSNE"
   ]
  },
  {
   "cell_type": "code",
   "execution_count": null,
   "metadata": {},
   "outputs": [],
   "source": [
    "sc.tl.tsne(adata,n_pcs=40)"
   ]
  },
  {
   "cell_type": "code",
   "execution_count": null,
   "metadata": {},
   "outputs": [],
   "source": [
    "sc.pl.tsne(adata, color=['leiden'])"
   ]
  },
  {
   "cell_type": "markdown",
   "metadata": {},
   "source": [
    "<div align=\"right\"><a href=\"#Table-of-contents\">Go to TOC</a></div>\n",
    "\n",
    "### Finding marker genes"
   ]
  },
  {
   "cell_type": "markdown",
   "metadata": {},
   "source": [
    "Let us compute a ranking for the highly differential genes in each cluster. For this, by default, the `.raw` attribute of AnnData is used in case it has been initialized before. The simplest and fastest method to do so is the t-test."
   ]
  },
  {
   "cell_type": "code",
   "execution_count": null,
   "metadata": {},
   "outputs": [],
   "source": [
    "sc.tl.rank_genes_groups(adata, 'leiden', method='t-test')\n",
    "sc.pl.rank_genes_groups(adata, n_genes=20, sharey=False)"
   ]
  },
  {
   "cell_type": "markdown",
   "metadata": {},
   "source": [
    "The result of a Wilcoxon rank-sum (Mann-Whitney-U) test is very similar (Sonison & Robinson (2018))."
   ]
  },
  {
   "cell_type": "code",
   "execution_count": null,
   "metadata": {},
   "outputs": [],
   "source": [
    "sc.tl.rank_genes_groups(adata, 'leiden', method='wilcoxon')\n",
    "sc.pl.rank_genes_groups(adata, n_genes=20, sharey=False)"
   ]
  },
  {
   "cell_type": "markdown",
   "metadata": {},
   "source": [
    "Show the 5 top ranked genes per cluster 0, 1, …, 7 in a dataframe"
   ]
  },
  {
   "cell_type": "code",
   "execution_count": null,
   "metadata": {},
   "outputs": [],
   "source": [
    "pd.DataFrame(adata.uns['rank_genes_groups']['names']).head(5)"
   ]
  },
  {
   "cell_type": "markdown",
   "metadata": {},
   "source": [
    "<div align=\"right\"><a href=\"#Table-of-contents\">Go to TOC</a></div>\n",
    "\n",
    "#### Stacked violin plot of ranked genes\n",
    "Plot marker genes per cluster using stacked violin plots"
   ]
  },
  {
   "cell_type": "code",
   "execution_count": null,
   "metadata": {},
   "outputs": [],
   "source": [
    "sc.pl.rank_genes_groups_stacked_violin(\n",
    "    adata, n_genes=10,groupby='leiden',swap_axes=False,figsize=(20,10))"
   ]
  },
  {
   "cell_type": "markdown",
   "metadata": {},
   "source": [
    "<div align=\"right\"><a href=\"#Table-of-contents\">Go to TOC</a></div>\n",
    "\n",
    "#### Dot plot of ranked genes\n",
    "The dotplot visualization provides a compact way of showing per group, the fraction of cells expressing a gene (dot size) and the mean expression of the gene in those cell (color scale)"
   ]
  },
  {
   "cell_type": "code",
   "execution_count": null,
   "metadata": {},
   "outputs": [],
   "source": [
    "sc.pl.rank_genes_groups_dotplot(\n",
    "    adata, n_genes=10,groupby='leiden', dendrogram=True,figsize=(20,10))"
   ]
  },
  {
   "cell_type": "markdown",
   "metadata": {},
   "source": [
    "<div align=\"right\"><a href=\"#Table-of-contents\">Go to TOC</a></div>\n",
    "\n",
    "#### Matrix plot of ranked genes\n",
    "The matrixplot shows the mean expression of a gene in a group by category as a heatmap."
   ]
  },
  {
   "cell_type": "code",
   "execution_count": null,
   "metadata": {},
   "outputs": [],
   "source": [
    "sc.pl.rank_genes_groups_matrixplot(adata, n_genes=10, groupby='leiden', figsize=(20,10))"
   ]
  },
  {
   "cell_type": "markdown",
   "metadata": {},
   "source": [
    "<div align=\"right\"><a href=\"#Table-of-contents\">Go to TOC</a></div>\n",
    "\n",
    "#### Heatmap plot of ranked genes\n",
    "Heatmaps do not collapse cells as in matrix plots. Instead, each cells is shown in a row."
   ]
  },
  {
   "cell_type": "code",
   "execution_count": null,
   "metadata": {},
   "outputs": [],
   "source": [
    "sc.pl.rank_genes_groups_heatmap(\n",
    "    adata, n_genes=10, show_gene_labels=True, groupby='leiden', figsize=(20,10))"
   ]
  },
  {
   "cell_type": "markdown",
   "metadata": {},
   "source": [
    "<div align=\"right\"><a href=\"#Table-of-contents\">Go to TOC</a></div>\n",
    "\n",
    "#### Tracks plot of ranked genes\n",
    "The track plot shows the same information as the heatmap, but, instead of a color scale, the gene expression is represented by height."
   ]
  },
  {
   "cell_type": "code",
   "execution_count": null,
   "metadata": {},
   "outputs": [],
   "source": [
    "sc.pl.rank_genes_groups_tracksplot(adata, n_genes=10, cmap='bwr',figsize=(20,30))"
   ]
  },
  {
   "cell_type": "markdown",
   "metadata": {},
   "source": [
    "<div align=\"right\"><a href=\"#Table-of-contents\">Go to TOC</a></div>\n",
    "\n",
    "## References\n",
    "* [Scanpy - Preprocessing and clustering 3k PBMCs](https://scanpy-tutorials.readthedocs.io/en/latest/pbmc3k.html)\n",
    "* [single-cell-tutorial](https://github.com/theislab/single-cell-tutorial)"
   ]
  },
  {
   "cell_type": "markdown",
   "metadata": {},
   "source": [
    "<div align=\"right\"><a href=\"#Table-of-contents\">Go to TOC</a></div>\n",
    "\n",
    "## Acknowledgement\n",
    "The Imperial BRC Genomics Facility is supported by NIHR funding to the Imperial Biomedical Research Centre."
   ]
  }
 ],
 "metadata": {
  "kernelspec": {
   "display_name": "Python 3",
   "language": "python",
   "name": "python3"
  },
  "language_info": {
   "codemirror_mode": {
    "name": "ipython",
    "version": 3
   },
   "file_extension": ".py",
   "mimetype": "text/x-python",
   "name": "python",
   "nbconvert_exporter": "python",
   "pygments_lexer": "ipython3",
   "version": "3.6.9"
  }
 },
 "nbformat": 4,
 "nbformat_minor": 4
}
