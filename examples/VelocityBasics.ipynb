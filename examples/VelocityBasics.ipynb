{
 "cells": [
  {
   "cell_type": "markdown",
   "metadata": {
    "hideCode": false,
    "hidePrompt": false,
    "id": "JsCidZslejqn"
   },
   "source": [
    "# RNA Velocity Basics"
   ]
  },
  {
   "cell_type": "markdown",
   "metadata": {
    "id": "flCy4JFcejqt"
   },
   "source": [
    "Copied from [RNA Velocity Basics](https://scvelo.readthedocs.io/VelocityBasics.html). Here you will learn the basics of RNA velocity analysis.\n",
    "\n",
    "For illustration, it is applied to endocrine development in the pancreas, with lineage commitment to four major fates: α, β, δ and ε-cells. <br/> \n",
    "See [here](https://scvelo.readthedocs.io/scvelo.datasets.pancreas.html) for more details. It can be applied to your own data along the same lines. \n",
    "\n",
    "The notebook is also available at\n",
    "[Google Colab](https://colab.research.google.com/github/theislab/scvelo_notebooks/blob/master/VelocityBasics.ipynb)\n",
    "and [nbviewer](https://nbviewer.jupyter.org/github/theislab/scvelo_notebooks/blob/master/VelocityBasics.ipynb)."
   ]
  },
  {
   "cell_type": "code",
   "execution_count": null,
   "metadata": {
    "id": "9v63iGWmejqu"
   },
   "outputs": [],
   "source": [
    "# update to the latest version, if not done yet.\n",
    "#!pip install scvelo --upgrade --quiet"
   ]
  },
  {
   "cell_type": "code",
   "execution_count": null,
   "metadata": {
    "ExecuteTime": {
     "end_time": "2020-05-16T10:55:13.135019Z",
     "start_time": "2020-05-16T10:55:10.811103Z"
    },
    "hideCode": false,
    "hidePrompt": false,
    "id": "-cNtKGCtejqv",
    "outputId": "56bdea74-e4f6-414d-98fa-e18bc9251bdf"
   },
   "outputs": [],
   "source": [
    "import scvelo as scv\n",
    "scv.logging.print_version()"
   ]
  },
  {
   "cell_type": "code",
   "execution_count": null,
   "metadata": {
    "ExecuteTime": {
     "end_time": "2020-05-14T22:09:18.047750Z",
     "start_time": "2020-05-14T22:09:18.041815Z"
    },
    "hideCode": false,
    "hidePrompt": false,
    "id": "rbDSPnUtejqw"
   },
   "outputs": [],
   "source": [
    "scv.settings.verbosity = 3  # show errors(0), warnings(1), info(2), hints(3)\n",
    "scv.settings.presenter_view = True  # set max width size for presenter view\n",
    "scv.set_figure_params('scvelo')  # for beautified visualization\n"
   ]
  },
  {
   "cell_type": "markdown",
   "metadata": {
    "hideCode": false,
    "hidePrompt": false,
    "id": "LhqFR8jPejqx"
   },
   "source": [
    "### Load the Data"
   ]
  },
  {
   "cell_type": "markdown",
   "metadata": {
    "hideCode": false,
    "hidePrompt": false,
    "id": "6xR_8UaNejqx"
   },
   "source": [
    "The analysis is based on the in-built [pancreas data](https://scvelo.readthedocs.io/scvelo.datasets.pancreas.html).<br/>\n",
    "To run velocity analysis on your own data, read your file (loom, h5ad, csv …) to an AnnData object with `adata = scv.read('path/file.loom', cache=True)`. If you want to merge your loom file into an already existing AnnData object, use `scv.utils.merge(adata, adata_loom)`."
   ]
  },
  {
   "cell_type": "code",
   "execution_count": null,
   "metadata": {
    "ExecuteTime": {
     "end_time": "2020-05-14T22:09:18.841409Z",
     "start_time": "2020-05-14T22:09:18.052145Z"
    },
    "hideCode": false,
    "hidePrompt": false,
    "id": "EB2CaYl2ejqx",
    "outputId": "9a73eb19-d9c3-4a65-ded0-90f98a27d404"
   },
   "outputs": [],
   "source": [
    "adata = scv.datasets.pancreas()\n",
    "adata"
   ]
  },
  {
   "cell_type": "markdown",
   "metadata": {
    "hideCode": false,
    "hidePrompt": false,
    "id": "D90pBdnZejqy"
   },
   "source": [
    "scVelo is based on `adata`, an object that stores a data matrix `adata.X`, annotation of observations `adata.obs`, variables `adata.var`, and unstructured annotations `adata.uns`. Names of observations and variables can be accessed via `adata.obs_names` and `adata.var_names`, respectively. AnnData objects can be sliced like dataframes, for example, `adata_subset = adata[:, list_of_gene_names]`. For more details, see the [anndata docs](https://anndata.readthedocs.io).\n"
   ]
  },
  {
   "cell_type": "code",
   "execution_count": null,
   "metadata": {
    "ExecuteTime": {
     "end_time": "2020-05-14T22:09:19.107415Z",
     "start_time": "2020-05-14T22:09:18.843698Z"
    },
    "hideCode": false,
    "hidePrompt": false,
    "id": "eK67F93dejqy",
    "outputId": "e815d94f-efb2-41f8-978c-c715d7b1637c"
   },
   "outputs": [],
   "source": [
    "scv.pl.proportions(adata)"
   ]
  },
  {
   "cell_type": "markdown",
   "metadata": {
    "hideCode": false,
    "hidePrompt": false,
    "id": "ZqVR0Bhmejqz"
   },
   "source": [
    "Here, the proportions of spliced/unspliced counts are displayed. Depending on the protocol used (Drop-Seq, Smart-Seq), we typically have between 10%-25% of unspliced molecules containing intronic sequences. We also advice you to examine the variations on cluster level to verify consistency in splicing efficiency. Here, we find variations as expected, with slightly lower unspliced proportions at cycling ductal cells, then higher proportion at cell fate commitment in Ngn3-high and Pre-endocrine cells where many genes start to be transcribed."
   ]
  },
  {
   "cell_type": "markdown",
   "metadata": {
    "hideCode": false,
    "hidePrompt": false,
    "id": "fOW13kC2ejq0"
   },
   "source": [
    "### Preprocess the Data"
   ]
  },
  {
   "cell_type": "markdown",
   "metadata": {
    "hideCode": false,
    "hidePrompt": false,
    "id": "gGIDr-Qhejq1"
   },
   "source": [
    "Preprocessing requisites consist of **gene selection** by detection (with a minimum number of counts) and high variability (dispersion), **normalizing** every cell by its total size and **logarithmizing** X. Filtering and normalization is applied in the same vein to spliced/unspliced counts and X. Logarithmizing is only applied to X. If X is already preprocessed from former analysis, it will not be touched.\n",
    "\n",
    "All of this is summarized in a single function `scv.pp.filter_and_normalize`, which essentially runs the following:\n",
    "\n",
    "```\n",
    "scv.pp.filter_genes(adata, min_shared_counts=20)\n",
    "scv.pp.normalize_per_cell(adata)\n",
    "scv.pp.filter_genes_dispersion(adata, n_top_genes=2000)\n",
    "scv.pp.log1p(adata)\n",
    "```\n",
    "\n",
    "Further, we need the first and second order moments (means and uncentered variances) computed among nearest neighbors in PCA space, summarized in `scv.pp.moments`, which internally computes `scv.pp.pca` and `scv.pp.neighbors`.\n",
    "First order is needed for deterministic velocity estimation, while stochastic estimation also requires second order moments."
   ]
  },
  {
   "cell_type": "code",
   "execution_count": null,
   "metadata": {
    "ExecuteTime": {
     "end_time": "2020-05-14T22:09:25.052883Z",
     "start_time": "2020-05-14T22:09:19.109179Z"
    },
    "hideCode": false,
    "hidePrompt": false,
    "id": "MIJT2yNTejq1",
    "outputId": "9eb32586-2966-4b5f-f108-128c113e2823"
   },
   "outputs": [],
   "source": [
    "scv.pp.filter_and_normalize(adata, min_shared_counts=20, n_top_genes=2000)\n",
    "scv.pp.moments(adata, n_pcs=30, n_neighbors=30)\n"
   ]
  },
  {
   "cell_type": "markdown",
   "metadata": {
    "hideCode": false,
    "hidePrompt": false,
    "id": "bT6ssSiIejq2"
   },
   "source": [
    "Further preprocessing (such as batch effect correction) may be used to remove unwanted sources of variability. See the [best practices](https://doi.org/10.15252/msb.20188746) for further details. Note, that any additional preprocessing step only affects X and is not applied to spliced/unspliced counts."
   ]
  },
  {
   "cell_type": "markdown",
   "metadata": {
    "hideCode": false,
    "hidePrompt": false,
    "id": "qCrl3FBUejq2"
   },
   "source": [
    "### Estimate RNA velocity"
   ]
  },
  {
   "cell_type": "markdown",
   "metadata": {
    "hideCode": false,
    "hidePrompt": false,
    "id": "7U4K0w0Jejq3"
   },
   "source": [
    "Velocities are vectors in gene expression space and represent the direction and speed of movement of the individual cells. The velocities are obtained by modeling transcriptional dynamics of splicing kinetics, either stochastically (default) or deterministically (by setting ``mode='deterministic'``). For each gene, a steady-state-ratio of pre-mature (unspliced) and mature (spliced) mRNA counts is fitted, which constitutes a constant transcriptional state. Velocities are then obtained as residuals from this ratio. Positive velocity indicates that a gene is up-regulated, which occurs for cells that show higher abundance of unspliced mRNA for that gene than expected in steady state. Conversely, negative velocity indicates that a gene is down-regulated.\n",
    "\n",
    "The solution to the full dynamical model is obtained by setting ``mode='dynamical'``, which requires to run\n",
    "``scv.tl.recover_dynamics(adata)`` beforehand. We will elaborate more on the dynamical model in the next tutorial."
   ]
  },
  {
   "cell_type": "code",
   "execution_count": null,
   "metadata": {
    "ExecuteTime": {
     "end_time": "2020-05-14T22:09:26.448778Z",
     "start_time": "2020-05-14T22:09:25.054557Z"
    },
    "hideCode": false,
    "hidePrompt": false,
    "id": "qUgEl-0Hejq3",
    "outputId": "e21dd992-6bd7-42b8-ee1d-2020267776df"
   },
   "outputs": [],
   "source": [
    "scv.tl.velocity(adata)"
   ]
  },
  {
   "cell_type": "markdown",
   "metadata": {
    "hideCode": false,
    "hidePrompt": false,
    "id": "o3_8HeQEejq3"
   },
   "source": [
    "The computed velocities are stored in ``adata.layers`` just like the count matrices. \n",
    "\n",
    "The combination of velocities across genes can then be used to estimate the future state of an individual cell. In order to project the velocities into a lower-dimensional embedding, transition probabilities of cell-to-cell transitions are estimated. That is, for each velocity vector we find the likely cell transitions that are accordance with that direction. The transition probabilities are computed using cosine correlation between the potential cell-to-cell transitions and the velocity vector, and are stored in a matrix denoted as velocity graph. The resulting velocity graph has dimension $n_{obs} \\times n_{obs}$ and summarizes the possible cell state changes that are well explained through the velocity vectors (for runtime speedup it can also be computed on reduced PCA space by setting `approx=True`)."
   ]
  },
  {
   "cell_type": "code",
   "execution_count": null,
   "metadata": {
    "ExecuteTime": {
     "end_time": "2020-05-14T22:09:37.256470Z",
     "start_time": "2020-05-14T22:09:26.450695Z"
    },
    "hideCode": false,
    "hidePrompt": false,
    "id": "I7c3xWxGejq3",
    "outputId": "f79b447f-ce48-426f-a6b7-c018ee4f58bc",
    "scrolled": true
   },
   "outputs": [],
   "source": [
    "scv.tl.velocity_graph(adata)"
   ]
  },
  {
   "cell_type": "markdown",
   "metadata": {
    "hideCode": false,
    "hidePrompt": false,
    "id": "tsQiqKJPejq4"
   },
   "source": [
    "For a variety of applications, the velocity graph can be converted to a transition matrix by applying a Gaussian kernel to transform the cosine correlations into actual transition probabilities. You can access the Markov transition matrix via `scv.utils.get_transition_matrix`. \n",
    "\n",
    "As mentioned, it is internally used to project the velocities into a low-dimensional embedding by applying the mean transition with respect to the transition probabilities, obtained with `scv.tl.velocity_embedding`. Further, we can trace cells along the Markov chain to their origins and potential fates, thereby getting root cells and end points within a trajectory, obtained via `scv.tl.terminal_states`."
   ]
  },
  {
   "cell_type": "markdown",
   "metadata": {
    "hideCode": false,
    "hidePrompt": false,
    "id": "Lp2i0ttPejq4"
   },
   "source": [
    "### Project the velocities"
   ]
  },
  {
   "cell_type": "markdown",
   "metadata": {
    "hideCode": false,
    "hidePrompt": false,
    "id": "MbPRbamEejq4"
   },
   "source": [
    "Finally, the velocities are projected onto any embedding, specified by `basis`, and visualized in one of these ways: \n",
    "- on cellular level with `scv.pl.velocity_embedding`,\n",
    "- as gridlines with `scv.pl.velocity_embedding_grid`,\n",
    "- or as streamlines with `scv.pl.velocity_embedding_stream`.\n",
    "\n",
    "Note, that the data has an already pre-computed UMAP embedding, and annotated clusters. When applying to your own data, these can be obtained with `scv.tl.umap` and `scv.tl.louvain`. For more details, see the [scanpy tutorial](https://scanpy-tutorials.readthedocs.io/en/latest/pbmc3k.html). Further, all plotting functions are defaulted to using `basis='umap'` and `color='clusters'`, which you can set accordingly."
   ]
  },
  {
   "cell_type": "code",
   "execution_count": null,
   "metadata": {
    "ExecuteTime": {
     "end_time": "2020-05-14T22:09:39.884754Z",
     "start_time": "2020-05-14T22:09:37.258991Z"
    },
    "hideCode": false,
    "hidePrompt": false,
    "id": "Ebb5sAcFejq4",
    "outputId": "177b5e67-bb59-45c2-c373-a9cb4f247260"
   },
   "outputs": [],
   "source": [
    "scv.pl.velocity_embedding_stream(adata, basis='umap')\n"
   ]
  },
  {
   "cell_type": "markdown",
   "metadata": {
    "hideCode": false,
    "hidePrompt": false,
    "id": "Cdnfa8Liejq5"
   },
   "source": [
    "The velocity vector field displayed as streamlines yields fine-grained insights into the developmental processes. It accurately delineates the cycling population of ductal cells and endocrine progenitors. Further, it illuminates cell states of lineage commitment, cell-cycle exit, and endocrine cell differentiation. "
   ]
  },
  {
   "cell_type": "markdown",
   "metadata": {
    "hideCode": false,
    "hidePrompt": false,
    "id": "-kI2ff9qejq5"
   },
   "source": [
    "The most fine-grained resolution of the velocity vector field we get at single-cell level, with each arrow showing the direction and speed of movement of an individual cell. That reveals, e.g., the early endocrine commitment of Ngn3-cells (yellow) and a clear-cut difference between near-terminal α-cells (blue) and transient β-cells (green)."
   ]
  },
  {
   "cell_type": "code",
   "execution_count": null,
   "metadata": {
    "ExecuteTime": {
     "end_time": "2020-05-14T22:09:40.301123Z",
     "start_time": "2020-05-14T22:09:39.886949Z"
    },
    "hideCode": false,
    "hidePrompt": false,
    "id": "eT1gmAOEejq6",
    "outputId": "9c50d10c-5265-44c2-cfe5-b82a68e7d66e"
   },
   "outputs": [],
   "source": [
    "scv.pl.velocity_embedding(adata, arrow_length=3, arrow_size=2, dpi=120)\n"
   ]
  },
  {
   "cell_type": "markdown",
   "metadata": {
    "hideCode": false,
    "hidePrompt": false,
    "id": "Rt0yJiV1ejq6"
   },
   "source": [
    "### Interprete the velocities"
   ]
  },
  {
   "cell_type": "markdown",
   "metadata": {
    "hideCode": false,
    "hidePrompt": false,
    "id": "O62WezVnejq6"
   },
   "source": [
    "This is perhaps the most important part as we advise the user not to limit biological conclusions to the projected velocities, but to examine individual gene dynamics via phase portraits to understand how inferred directions are supported by particular genes. \n",
    "\n",
    "See the gif [here](https://user-images.githubusercontent.com/31883718/80227452-eb822480-864d-11ea-9399-56886c5e2785.gif) to get an idea of how to interpret a spliced vs. unspliced phase portrait. Gene activity is orchestrated by transcriptional regulation. Transcriptional induction for a particular gene results in an increase of (newly transcribed) precursor unspliced mRNAs while, conversely, repression or absence of transcription results in a decrease of unspliced mRNAs. Spliced mRNAs is produced from unspliced mRNA and follows the same trend with a time lag. Time is a hidden/latent variable. Thus, the dynamics needs to be inferred from what is actually measured: spliced and unspliced mRNAs as displayed in the phase portrait. \n",
    "\n",
    "Now, let us examine the phase portraits of some marker genes, visualized with <br/> \n",
    "`scv.pl.velocity(adata, gene_names)` or `scv.pl.scatter(adata, gene_names)`. "
   ]
  },
  {
   "cell_type": "code",
   "execution_count": null,
   "metadata": {
    "ExecuteTime": {
     "end_time": "2020-05-14T22:09:42.557920Z",
     "start_time": "2020-05-14T22:09:40.303041Z"
    },
    "hideCode": false,
    "hidePrompt": false,
    "id": "bHw6HzXeejq6",
    "outputId": "4fb598ea-4527-49b9-a330-367bb76cfe94"
   },
   "outputs": [],
   "source": [
    "scv.pl.velocity(adata, ['Cpe',  'Gnao1', 'Ins2', 'Adk'], ncols=2)\n"
   ]
  },
  {
   "cell_type": "markdown",
   "metadata": {
    "hideCode": false,
    "hidePrompt": false,
    "id": "loeGxddZejq6"
   },
   "source": [
    "The black line corresponds to the estimated 'steady-state' ratio, i.e. the ratio of unspliced to spliced mRNA abundance which is in a constant transcriptional state. RNA velocity for a particular gene is determined as the residual, i.e. how much an observation deviates from that steady-state line. Positive velocity indicates that a gene is up-regulated, which occurs for cells that show higher abundance of unspliced mRNA for that gene than expected in steady state. Conversely, negative velocity indicates that a gene is down-regulated.\n",
    "\n",
    "For instance *Cpe* explains the directionality in the up-regulated Ngn3 (yellow) to Pre-endocrine (orange) to β-cells (green), while *Adk*  explains the directionality in the down-regulated Ductal (dark green) to Ngn3 (yellow) to the remaining endocrine cells."
   ]
  },
  {
   "cell_type": "code",
   "execution_count": null,
   "metadata": {
    "ExecuteTime": {
     "end_time": "2020-05-14T22:09:42.945626Z",
     "start_time": "2020-05-14T22:09:42.559460Z"
    },
    "hideCode": false,
    "hidePrompt": false,
    "id": "aWNP4an9ejq6",
    "outputId": "b3ef9f49-df57-4e6c-f6ec-f6d2294a8e72"
   },
   "outputs": [],
   "source": [
    "scv.pl.scatter(adata, 'Cpe', color=['clusters', 'velocity'], \n",
    "               add_outline='Ngn3 high EP, Pre-endocrine, Beta')"
   ]
  },
  {
   "cell_type": "markdown",
   "metadata": {
    "hideCode": false,
    "hidePrompt": false,
    "id": "wGhArIl2ejq6"
   },
   "source": [
    "### Identify important genes\n",
    "We need a systematic way to identify genes that may help explain the resulting vector field and inferred lineages. \n",
    "To do so, we can test which genes have cluster-specific differential velocity expression, being siginificantly higher/lower compared to the remaining population. The module `scv.tl.rank_velocity_genes` runs a differential velocity t-test and outpus a gene ranking for each cluster. Thresholds can be set (e.g. `min_corr`) to restrict the test on a selection of gene candidates."
   ]
  },
  {
   "cell_type": "code",
   "execution_count": null,
   "metadata": {
    "ExecuteTime": {
     "end_time": "2020-05-14T22:09:45.422286Z",
     "start_time": "2020-05-14T22:09:42.948991Z"
    },
    "hideCode": false,
    "hidePrompt": false,
    "id": "zI9eGCGJejq8",
    "outputId": "3f5b7b95-7d2f-45cb-91d0-1204fda5d6a2"
   },
   "outputs": [],
   "source": [
    "scv.tl.rank_velocity_genes(adata, groupby='clusters', min_corr=.3)\n",
    "\n",
    "df = scv.DataFrame(adata.uns['rank_velocity_genes']['names'])\n",
    "df.head()"
   ]
  },
  {
   "cell_type": "code",
   "execution_count": null,
   "metadata": {
    "ExecuteTime": {
     "end_time": "2020-05-14T22:09:47.794054Z",
     "start_time": "2020-05-14T22:09:45.424197Z"
    },
    "hideCode": false,
    "hidePrompt": false,
    "id": "xHf9rSXjejq8",
    "outputId": "7bcfa68c-65ba-4e15-e7cc-0566fe11724d"
   },
   "outputs": [],
   "source": [
    "kwargs = dict(frameon=False, size=10, linewidth=1.5, \n",
    "              add_outline='Ngn3 high EP, Pre-endocrine, Beta')\n",
    "\n",
    "scv.pl.scatter(adata, df['Ngn3 high EP'][:5], ylabel='Ngn3 high EP', **kwargs)\n",
    "scv.pl.scatter(adata, df['Pre-endocrine'][:5], ylabel='Pre-endocrine', **kwargs)\n"
   ]
  },
  {
   "cell_type": "markdown",
   "metadata": {
    "hideCode": false,
    "hidePrompt": false,
    "id": "Nfi6Ou_Wejq8"
   },
   "source": [
    "The genes *Ptprs, Pclo, Pam, Abcc8, Gnas*, for instance, support the directionality from **Ngn3 high EP** (yellow) to **Pre-endocrine** (orange) to **Beta** (green)."
   ]
  },
  {
   "cell_type": "markdown",
   "metadata": {
    "hideCode": false,
    "hidePrompt": false,
    "id": "_RLoZMgYejq9"
   },
   "source": [
    "### Velocities in cycling progenitors"
   ]
  },
  {
   "cell_type": "markdown",
   "metadata": {
    "hideCode": false,
    "hidePrompt": false,
    "id": "Ap_xXLCRejq9"
   },
   "source": [
    "The cell cycle detected by RNA velocity, is biologically affirmed by cell cycle scores (standardized scores of mean expression levels of phase marker genes)."
   ]
  },
  {
   "cell_type": "code",
   "execution_count": null,
   "metadata": {
    "ExecuteTime": {
     "end_time": "2020-05-14T22:09:48.294467Z",
     "start_time": "2020-05-14T22:09:47.796051Z"
    },
    "hideCode": false,
    "hidePrompt": false,
    "id": "wV38Ufn2ejq9",
    "outputId": "b353f7b5-b60e-4f33-bfea-2d503e49a614"
   },
   "outputs": [],
   "source": [
    "scv.tl.score_genes_cell_cycle(adata)\n",
    "scv.pl.scatter(adata, color_gradients=['S_score', 'G2M_score'], smooth=True, perc=[5, 95])\n"
   ]
  },
  {
   "cell_type": "markdown",
   "metadata": {
    "hideCode": false,
    "hidePrompt": false,
    "id": "_-D35ebPejq9"
   },
   "source": [
    "For the cycling Ductal cells, we may screen through S and G2M phase markers. The previous module also computed a spearmans correlation score, which we can use to rank/sort the phase marker genes to then display their phase portraits. "
   ]
  },
  {
   "cell_type": "code",
   "execution_count": null,
   "metadata": {
    "ExecuteTime": {
     "end_time": "2020-05-14T22:09:49.542189Z",
     "start_time": "2020-05-14T22:09:48.299779Z"
    },
    "hideCode": false,
    "hidePrompt": false,
    "id": "-cQm7PsKejq9",
    "outputId": "399579bd-06dd-42f3-a807-56ccecab3ea9"
   },
   "outputs": [],
   "source": [
    "s_genes, g2m_genes = scv.utils.get_phase_marker_genes(adata)\n",
    "s_genes = scv.get_df(adata[:, s_genes], 'spearmans_score', sort_values=True).index\n",
    "g2m_genes = scv.get_df(adata[:, g2m_genes], 'spearmans_score', sort_values=True).index\n",
    "\n",
    "kwargs = dict(frameon=False, ylabel='cell cycle genes')\n",
    "scv.pl.scatter(adata, list(s_genes[:2]) + list(g2m_genes[:3]), **kwargs)\n"
   ]
  },
  {
   "cell_type": "markdown",
   "metadata": {
    "hideCode": false,
    "hidePrompt": false,
    "id": "8aEIOsP1ejq-"
   },
   "source": [
    "Particularly *Hells* and *Top2a* are well-suited to explain the vector field in the cycling progenitors. \n",
    "*Top2a* gets assigned a high velocity shortly before it actually peaks in the G2M phase. There, the negative velocity then perfectly matches the immediately following down-regulation. "
   ]
  },
  {
   "cell_type": "code",
   "execution_count": null,
   "metadata": {
    "ExecuteTime": {
     "end_time": "2020-05-14T22:09:51.117201Z",
     "start_time": "2020-05-14T22:09:49.548100Z"
    },
    "hideCode": false,
    "hidePrompt": false,
    "id": "8O0Ob0RIejq-",
    "outputId": "7d143a61-dcdb-487a-fe38-195729e76cbb"
   },
   "outputs": [],
   "source": [
    "scv.pl.velocity(adata, ['Hells', 'Top2a'], ncols=2, add_outline=True)"
   ]
  },
  {
   "cell_type": "markdown",
   "metadata": {
    "id": "jaLHLPQPejq-"
   },
   "source": [
    "### Speed and coherence\n",
    "Two more useful stats:<br/> \n",
    "- The speed or rate of differentiation is given by the length of the velocity vector. <br/> \n",
    "- The coherence of the vector field (i.e., how a velocity vector correlates with its neighboring velocities) provides a measure of confidence."
   ]
  },
  {
   "cell_type": "code",
   "execution_count": null,
   "metadata": {
    "ExecuteTime": {
     "end_time": "2020-05-14T22:09:53.631152Z",
     "start_time": "2020-05-14T22:09:51.118816Z"
    },
    "id": "NgXgEQZtejq-",
    "outputId": "d67934d6-9beb-4c7d-fe4d-50f17c2366fb"
   },
   "outputs": [],
   "source": [
    "scv.tl.velocity_confidence(adata)\n",
    "keys = 'velocity_length', 'velocity_confidence'\n",
    "scv.pl.scatter(adata, c=keys, cmap='coolwarm', perc=[5, 95])\n"
   ]
  },
  {
   "cell_type": "markdown",
   "metadata": {
    "id": "PfaCQBIyejq-"
   },
   "source": [
    "These provide insights where cells differentiate at a slower/faster pace, and where the direction is un-/determined. \n",
    "\n",
    "On cluster-level, we find that differentiation substantially speeds up after cell cycle exit (Ngn3 low EP), keeping the pace during Beta cell production while slowing down during Alpha cell production. "
   ]
  },
  {
   "cell_type": "code",
   "execution_count": null,
   "metadata": {
    "ExecuteTime": {
     "end_time": "2020-05-14T22:09:53.718649Z",
     "start_time": "2020-05-14T22:09:53.632868Z"
    },
    "id": "ndjxJY5eejq-",
    "outputId": "b3648b03-6e74-4ec6-93b4-0545ad20e0fe"
   },
   "outputs": [],
   "source": [
    "df = adata.obs.groupby('clusters')[keys].mean().T\n",
    "df.style.background_gradient(cmap='coolwarm', axis=1)\n"
   ]
  },
  {
   "cell_type": "markdown",
   "metadata": {
    "hideCode": false,
    "hidePrompt": false,
    "id": "KSfDXdmJejq-"
   },
   "source": [
    "### Velocity graph and pseudotime\n",
    "We can visualize the velocity graph to portray all velocity-inferred cell-to-cell connections/transitions. It can be confined to high-probability transitions by setting a `threshold`. The graph, for instance, indicates two phases of Epsilon cell production, coming from early and late Pre-endocrine cells."
   ]
  },
  {
   "cell_type": "code",
   "execution_count": null,
   "metadata": {
    "ExecuteTime": {
     "end_time": "2020-05-14T22:09:55.249679Z",
     "start_time": "2020-05-14T22:09:53.722677Z"
    },
    "hideCode": false,
    "hidePrompt": false,
    "id": "LtgUNezxejq-",
    "outputId": "4c980676-a112-41d5-a005-4043c4d8a4ca"
   },
   "outputs": [],
   "source": [
    "scv.pl.velocity_graph(adata, threshold=.1)"
   ]
  },
  {
   "cell_type": "markdown",
   "metadata": {
    "id": "-hKr9rzJejrA"
   },
   "source": [
    "Further, the graph can be used to draw descendents/anscestors coming from a specified cell. Here, a pre-endocrine cell is traced to its potential fate."
   ]
  },
  {
   "cell_type": "code",
   "execution_count": null,
   "metadata": {
    "ExecuteTime": {
     "end_time": "2020-05-14T22:09:57.014274Z",
     "start_time": "2020-05-14T22:09:55.251315Z"
    },
    "hideCode": false,
    "hidePrompt": false,
    "id": "47--6l5pejrA",
    "outputId": "29d29c28-b799-41b6-d313-0051bbef3d6f"
   },
   "outputs": [],
   "source": [
    "x, y = scv.utils.get_cell_transitions(adata, basis='umap', starting_cell=70)\n",
    "ax = scv.pl.velocity_graph(adata, c='lightgrey', edge_width=.05, show=False)\n",
    "ax = scv.pl.scatter(adata, x=x, y=y, s=120, c='ascending', cmap='gnuplot', ax=ax)\n"
   ]
  },
  {
   "cell_type": "markdown",
   "metadata": {
    "id": "mQGliXhEejrA"
   },
   "source": [
    "Finally, based on the velocity graph, a *velocity pseudotime* can be computed. After inferring a distribution over root cells from the graph, it measures the average number of steps it takes to reach a cell after walking along the graph starting from the root cells. \n",
    "\n",
    "Contrarily to diffusion pseudotime, it implicitly infers the root cells and is based on the directed velocity graph instead of the similarity-based diffusion kernel."
   ]
  },
  {
   "cell_type": "code",
   "execution_count": null,
   "metadata": {
    "ExecuteTime": {
     "end_time": "2020-05-14T22:09:58.021757Z",
     "start_time": "2020-05-14T22:09:57.015748Z"
    },
    "hideCode": false,
    "hidePrompt": false,
    "id": "WHpPV5D3ejrB",
    "outputId": "4d58c012-6516-42ca-d33c-775988e677ba"
   },
   "outputs": [],
   "source": [
    "scv.tl.velocity_pseudotime(adata)\n",
    "scv.pl.scatter(adata, color='velocity_pseudotime', cmap='gnuplot')\n"
   ]
  },
  {
   "cell_type": "markdown",
   "metadata": {
    "id": "f5HxRMFpejrB"
   },
   "source": [
    "### PAGA velocity graph\n",
    "[PAGA](https://doi.org/10.1186/s13059-019-1663-x) graph abstraction has benchmarked as top-performing method for trajectory inference. It provides a graph-like map of the data topology with weighted edges corresponding to the connectivity between two clusters. Here, PAGA is extended by velocity-inferred directionality."
   ]
  },
  {
   "cell_type": "code",
   "execution_count": null,
   "metadata": {
    "id": "QgAbyseBejrB"
   },
   "outputs": [],
   "source": [
    "# PAGA requires to install igraph, if not done yet.\n",
    "!pip install python-igraph --upgrade --quiet"
   ]
  },
  {
   "cell_type": "code",
   "execution_count": null,
   "metadata": {
    "ExecuteTime": {
     "end_time": "2020-05-14T22:09:59.243817Z",
     "start_time": "2020-05-14T22:09:58.023200Z"
    },
    "hideCode": false,
    "hidePrompt": false,
    "id": "lqO1UVSsejrB",
    "outputId": "0a816187-5add-4b13-ab28-c90d37ee8819"
   },
   "outputs": [],
   "source": [
    "# this is needed due to a current bug - bugfix is coming soon.\n",
    "adata.uns['neighbors']['distances'] = adata.obsp['distances']\n",
    "adata.uns['neighbors']['connectivities'] = adata.obsp['connectivities']\n",
    "\n",
    "scv.tl.paga(adata, groups='clusters')\n",
    "df = scv.get_df(adata, 'paga/transitions_confidence', precision=2).T\n",
    "df.style.background_gradient(cmap='Blues').format('{:.2g}')\n"
   ]
  },
  {
   "cell_type": "markdown",
   "metadata": {
    "id": "Opp8p-1uejrB"
   },
   "source": [
    "This reads from left/row to right/column, thus e.g. assigning a confident transition from Ductal to Ngn3 low EP. \n",
    "\n",
    "This table can be summarized by a directed graph superimposed onto the UMAP embedding."
   ]
  },
  {
   "cell_type": "code",
   "execution_count": null,
   "metadata": {
    "ExecuteTime": {
     "end_time": "2020-05-14T22:09:59.573488Z",
     "start_time": "2020-05-14T22:09:59.248153Z"
    },
    "id": "HwnzM_ZcejrB",
    "outputId": "0f95ebe1-a08d-4c8c-e8c9-e6602794310b"
   },
   "outputs": [],
   "source": [
    "scv.pl.paga(adata, basis='umap', size=50, alpha=.1,\n",
    "            min_edge_width=2, node_size_scale=1.5)"
   ]
  }
 ],
 "metadata": {
  "colab": {
   "name": "VelocityBasics.ipynb",
   "provenance": [],
   "toc_visible": true
  },
  "hide_code_all_hidden": false,
  "kernelspec": {
   "display_name": "Python 3",
   "language": "python",
   "name": "python3"
  },
  "language_info": {
   "codemirror_mode": {
    "name": "ipython",
    "version": 3
   },
   "file_extension": ".py",
   "mimetype": "text/x-python",
   "name": "python",
   "nbconvert_exporter": "python",
   "pygments_lexer": "ipython3",
   "version": "3.7.10"
  },
  "nbpresent": {
   "slides": {},
   "themes": {
    "default": "15f06427-3b2a-49bc-bf86-daf4b06df6ed",
    "theme": {
     "15f06427-3b2a-49bc-bf86-daf4b06df6ed": {
      "backgrounds": {
       "dc7afa04-bf90-40b1-82a5-726e3cff5267": {
        "background-color": "31af15d2-7e15-44c5-ab5e-e04b16a89eff",
        "id": "dc7afa04-bf90-40b1-82a5-726e3cff5267"
       }
      },
      "id": "15f06427-3b2a-49bc-bf86-daf4b06df6ed",
      "palette": {
       "19cc588f-0593-49c9-9f4b-e4d7cc113b1c": {
        "id": "19cc588f-0593-49c9-9f4b-e4d7cc113b1c",
        "rgb": [
         252,
         252,
         252
        ]
       },
       "31af15d2-7e15-44c5-ab5e-e04b16a89eff": {
        "id": "31af15d2-7e15-44c5-ab5e-e04b16a89eff",
        "rgb": [
         68,
         68,
         68
        ]
       },
       "50f92c45-a630-455b-aec3-788680ec7410": {
        "id": "50f92c45-a630-455b-aec3-788680ec7410",
        "rgb": [
         197,
         226,
         245
        ]
       },
       "c5cc3653-2ee1-402a-aba2-7caae1da4f6c": {
        "id": "c5cc3653-2ee1-402a-aba2-7caae1da4f6c",
        "rgb": [
         43,
         126,
         184
        ]
       },
       "efa7f048-9acb-414c-8b04-a26811511a21": {
        "id": "efa7f048-9acb-414c-8b04-a26811511a21",
        "rgb": [
         25.118061674008803,
         73.60176211453744,
         107.4819383259912
        ]
       }
      },
      "rules": {
       "a": {
        "color": "19cc588f-0593-49c9-9f4b-e4d7cc113b1c"
       },
       "blockquote": {
        "color": "50f92c45-a630-455b-aec3-788680ec7410",
        "font-size": 3
       },
       "code": {
        "font-family": "Anonymous Pro"
       },
       "h1": {
        "color": "19cc588f-0593-49c9-9f4b-e4d7cc113b1c",
        "font-family": "Merriweather",
        "font-size": 8
       },
       "h2": {
        "color": "19cc588f-0593-49c9-9f4b-e4d7cc113b1c",
        "font-family": "Merriweather",
        "font-size": 6
       },
       "h3": {
        "color": "50f92c45-a630-455b-aec3-788680ec7410",
        "font-family": "Lato",
        "font-size": 5.5
       },
       "h4": {
        "color": "c5cc3653-2ee1-402a-aba2-7caae1da4f6c",
        "font-family": "Lato",
        "font-size": 5
       },
       "h5": {
        "font-family": "Lato"
       },
       "h6": {
        "font-family": "Lato"
       },
       "h7": {
        "font-family": "Lato"
       },
       "li": {
        "color": "50f92c45-a630-455b-aec3-788680ec7410",
        "font-size": 3.25
       },
       "pre": {
        "font-family": "Anonymous Pro",
        "font-size": 4
       }
      },
      "text-base": {
       "color": "19cc588f-0593-49c9-9f4b-e4d7cc113b1c",
       "font-family": "Lato",
       "font-size": 4
      }
     }
    }
   }
  },
  "varInspector": {
   "cols": {
    "lenName": 16,
    "lenType": 16,
    "lenVar": 40
   },
   "kernels_config": {
    "python": {
     "delete_cmd_postfix": "",
     "delete_cmd_prefix": "del ",
     "library": "var_list.py",
     "varRefreshCmd": "print(var_dic_list())"
    },
    "r": {
     "delete_cmd_postfix": ") ",
     "delete_cmd_prefix": "rm(",
     "library": "var_list.r",
     "varRefreshCmd": "cat(var_dic_list()) "
    }
   },
   "types_to_exclude": [
    "module",
    "function",
    "builtin_function_or_method",
    "instance",
    "_Feature"
   ],
   "window_display": false
  }
 },
 "nbformat": 4,
 "nbformat_minor": 4
}
