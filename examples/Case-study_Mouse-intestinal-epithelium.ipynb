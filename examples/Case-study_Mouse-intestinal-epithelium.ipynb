{
 "cells": [
  {
   "cell_type": "markdown",
   "metadata": {},
   "source": [
    "## Introduction\n",
    "\n",
    "[![Binder](https://notebooks.gesis.org/binder/badge_logo.svg)](https://notebooks.gesis.org/binder/v2/gh/imperial-genomics-facility/scanpy-notebook-image/v2?urlpath=lab)\n",
    "This notebook uses data set ([GSE92332](https://www.ncbi.nlm.nih.gov/geo/download/?acc=GSE92332)) of different regions of the mouse intestinal epithelium from (Haber et al. 2018) and uses codes and documentation from [Best practices in single-cell RNA-seq analysis: a tutorial](https://github.com/theislab/single-cell-tutorial) for data analsis using a variety of tools."
   ]
  },
  {
   "cell_type": "markdown",
   "metadata": {},
   "source": [
    "##  Loading the libraries\n",
    "\n",
    "We need to load all the required libraries to environment before we can run any of the analysis steps. Also, we are checking the version information for most of the major packages used for analysis."
   ]
  },
  {
   "cell_type": "code",
   "execution_count": null,
   "metadata": {},
   "outputs": [],
   "source": [
    "import scanpy as sc\n",
    "import numpy as np\n",
    "import scipy as sp\n",
    "import pandas as pd\n",
    "import matplotlib.pyplot as plt\n",
    "from matplotlib import rcParams\n",
    "from matplotlib import colors\n",
    "import seaborn as sb\n",
    "from gprofiler import GProfiler\n",
    "\n",
    "import rpy2.rinterface_lib.callbacks\n",
    "import logging\n",
    "\n",
    "from rpy2.robjects import pandas2ri\n",
    "import anndata2ri"
   ]
  },
  {
   "cell_type": "code",
   "execution_count": null,
   "metadata": {},
   "outputs": [],
   "source": [
    "# Ignore R warning messages\n",
    "#Note: this can be commented out to get more verbose R output\n",
    "rpy2.rinterface_lib.callbacks.logger.setLevel(logging.ERROR)\n",
    "\n",
    "# Automatically convert rpy2 outputs to pandas dataframes\n",
    "pandas2ri.activate()\n",
    "anndata2ri.activate()\n",
    "%load_ext rpy2.ipython\n",
    "\n",
    "plt.rcParams['figure.figsize']=(8,8) #rescale figures\n",
    "sc.settings.verbosity = 3\n",
    "#sc.set_figure_params(dpi=200, dpi_save=300)\n",
    "sc.logging.print_versions()"
   ]
  },
  {
   "cell_type": "code",
   "execution_count": null,
   "metadata": {},
   "outputs": [],
   "source": [
    "%%R\n",
    "# Load libraries from correct lib Paths for my environment - ignore this!\n",
    "#.libPaths(.libPaths()[c(3,2,1)])\n",
    "\n",
    "# Load all the R libraries we will be using in the notebook\n",
    "library(scran)\n",
    "library(RColorBrewer)\n",
    "library(slingshot)\n",
    "library(monocle)\n",
    "library(gam)\n",
    "library(clusterExperiment)\n",
    "library(ggplot2)\n",
    "library(plyr)\n",
    "library(MAST)"
   ]
  },
  {
   "cell_type": "markdown",
   "metadata": {},
   "source": [
    "## Fetch raw data from NCBI GEO\n",
    "\n",
    "The following steps are only required for downloading test data from NCBI GEO."
   ]
  },
  {
   "cell_type": "code",
   "execution_count": null,
   "metadata": {},
   "outputs": [],
   "source": [
    "!rm -rf /tmp/GSE92332_RAW;mkdir /tmp/GSE92332_RAW\n",
    "!cd /tmp/GSE92332_RAW;\\\n",
    "wget -q -O /tmp/GSE92332_RAW/GSE92332_RAW.tar  \\\n",
    "  http://ftp.ncbi.nlm.nih.gov/geo/series/GSE92nnn/GSE92332/suppl/GSE92332_RAW.tar\n",
    "!cd /tmp/GSE92332_RAW;tar -xf GSE92332_RAW.tar"
   ]
  },
  {
   "cell_type": "code",
   "execution_count": null,
   "metadata": {},
   "outputs": [],
   "source": [
    "# TODO\n",
    "#!wget -q -O /tmp/Macosko_cell_cycle_genes.txt \\\n",
    "#https://raw.githubusercontent.com/theislab/single-cell-tutorial/master/Macosko_cell_cycle_genes.txt"
   ]
  },
  {
   "cell_type": "markdown",
   "metadata": {},
   "source": [
    "## Reading in the data\n",
    "\n",
    "Scanpy expects the data to be stored in the format cells x genes, so we need to transpose the data matrix."
   ]
  },
  {
   "cell_type": "code",
   "execution_count": null,
   "metadata": {},
   "outputs": [],
   "source": [
    "# Set up data loading, we are using only single dataset for each type of cell type due to memory limitation\n",
    "\n",
    "#Data files\n",
    "sample_strings = ['Duo_M1', 'Jej_M1',  'Il_M1']\n",
    "sample_id_strings = ['3', '5','7']\n",
    "file_base = '/tmp/GSE92332_RAW/GSM283657'\n",
    "exp_string = '_Regional_'\n",
    "data_file_end = '_matrix.mtx.gz'\n",
    "barcode_file_end = '_barcodes.tsv.gz'\n",
    "gene_file_end = '_genes.tsv.gz'\n",
    "cc_genes_file = '/tmp/Macosko_cell_cycle_genes.txt'"
   ]
  },
  {
   "cell_type": "code",
   "execution_count": null,
   "metadata": {},
   "outputs": [],
   "source": [
    "# First data set load & annotation\n",
    "#Parse Filenames\n",
    "sample = sample_strings.pop(0)\n",
    "sample_id = sample_id_strings.pop(0)\n",
    "data_file = file_base+sample_id+exp_string+sample+data_file_end\n",
    "barcode_file = file_base+sample_id+exp_string+sample+barcode_file_end\n",
    "gene_file = file_base+sample_id+exp_string+sample+gene_file_end\n",
    "\n",
    "#Load data\n",
    "adata = sc.read(data_file, cache=True)\n",
    "adata = adata.transpose()\n",
    "adata.X = adata.X.toarray()\n",
    "\n",
    "barcodes = pd.read_csv(barcode_file, header=None, sep='\\t')\n",
    "genes = pd.read_csv(gene_file, header=None, sep='\\t')\n",
    "\n",
    "#Annotate data\n",
    "barcodes.rename(columns={0:'barcode'}, inplace=True)\n",
    "barcodes.set_index('barcode', inplace=True)\n",
    "adata.obs = barcodes\n",
    "adata.obs['sample'] = [sample]*adata.n_obs\n",
    "adata.obs['region'] = [sample.split(\"_\")[0]]*adata.n_obs\n",
    "adata.obs['donor'] = [sample.split(\"_\")[1]]*adata.n_obs\n",
    "\n",
    "genes.rename(columns={0:'gene_id', 1:'gene_symbol'}, inplace=True)\n",
    "genes.set_index('gene_symbol', inplace=True)\n",
    "adata.var = genes"
   ]
  },
  {
   "cell_type": "code",
   "execution_count": null,
   "metadata": {},
   "outputs": [],
   "source": [
    "# Loop to load rest of data sets\n",
    "for i in range(len(sample_strings)):\n",
    "    #Parse Filenames\n",
    "    sample = sample_strings[i]\n",
    "    sample_id = sample_id_strings[i]\n",
    "    data_file = file_base+sample_id+exp_string+sample+data_file_end\n",
    "    barcode_file = file_base+sample_id+exp_string+sample+barcode_file_end\n",
    "    gene_file = file_base+sample_id+exp_string+sample+gene_file_end\n",
    "    \n",
    "    #Load data\n",
    "    adata_tmp = sc.read(data_file, cache=True)\n",
    "    adata_tmp = adata_tmp.transpose()\n",
    "    adata_tmp.X = adata_tmp.X.toarray()\n",
    "\n",
    "    barcodes_tmp = pd.read_csv(barcode_file, header=None, sep='\\t')\n",
    "    genes_tmp = pd.read_csv(gene_file, header=None, sep='\\t')\n",
    "    \n",
    "    #Annotate data\n",
    "    barcodes_tmp.rename(columns={0:'barcode'}, inplace=True)\n",
    "    barcodes_tmp.set_index('barcode', inplace=True)\n",
    "    adata_tmp.obs = barcodes_tmp\n",
    "    adata_tmp.obs['sample'] = [sample]*adata_tmp.n_obs\n",
    "    adata_tmp.obs['region'] = [sample.split(\"_\")[0]]*adata_tmp.n_obs\n",
    "    adata_tmp.obs['donor'] = [sample.split(\"_\")[1]]*adata_tmp.n_obs\n",
    "    \n",
    "    genes_tmp.rename(columns={0:'gene_id', 1:'gene_symbol'}, inplace=True)\n",
    "    genes_tmp.set_index('gene_symbol', inplace=True)\n",
    "    adata_tmp.var = genes_tmp\n",
    "    adata_tmp.var_names_make_unique()\n",
    "\n",
    "    # Concatenate to main adata object\n",
    "    adata = adata.concatenate(adata_tmp, batch_key='sample_id')\n",
    "    #adata.var['gene_id'] = adata.var['gene_id-1']\n",
    "    #adata.var.drop(columns = ['gene_id-1', 'gene_id-0'], inplace=True)\n",
    "    adata.obs.drop(columns=['sample_id'], inplace=True)\n",
    "    adata.obs_names = [c.split(\"-\")[0] for c in adata.obs_names]\n",
    "    adata.obs_names_make_unique(join='_')"
   ]
  },
  {
   "cell_type": "code",
   "execution_count": null,
   "metadata": {},
   "outputs": [],
   "source": [
    "#Assign variable names and gene id columns\n",
    "adata.var_names = [g.split(\"_\")[1] for g in adata.var_names]\n",
    "adata.var['gene_id'] = [g.split(\"_\")[1] for g in adata.var['gene_id']]"
   ]
  },
  {
   "cell_type": "code",
   "execution_count": null,
   "metadata": {},
   "outputs": [],
   "source": [
    "# Annotate the data sets\n",
    "print(adata.obs['region'].value_counts())\n",
    "print('')\n",
    "print(adata.obs['donor'].value_counts())\n",
    "print('')\n",
    "print(adata.obs['sample'].value_counts())"
   ]
  },
  {
   "cell_type": "code",
   "execution_count": null,
   "metadata": {},
   "outputs": [],
   "source": [
    "# Checking the total size of the data set\n",
    "adata.shape"
   ]
  },
  {
   "cell_type": "markdown",
   "metadata": {},
   "source": [
    "Scanpy stores the count data is an annotated data matrix (observations e.g. cell barcodes × variables e.g gene names) called AnnData together with annotations of observations __(obs)__, variables __(var)__ and unstructured annotations __(uns)__"
   ]
  },
  {
   "cell_type": "markdown",
   "metadata": {},
   "source": [
    "## Pre-processing and visualization\n",
    "\n",
    "### Quality control\n",
    "\n",
    "A high fraction of mitochondrial reads being picked up can indicate cell stress, as there is a low proportion of nuclear mRNA in the cell. It should be noted that high mitochondrial RNA fractions can also be biological signals indicating elevated respiration.\n",
    "\n",
    "Typical quality measures for assessing the quality of a cell includes the following components\n",
    "\n",
    "* Number of molecule counts (UMIs or n_counts )\n",
    "* Number of expressed genes (n_genes)\n",
    "* Fraction of counts that are mitochondrial (percent_mito)\n",
    "\n",
    "We are calculating the above mentioned details using the following codes.\n",
    "\n",
    "Cell barcodes with high count depth, few detected genes and high fraction of mitochondrial counts may indicate cells whose cytoplasmic mRNA has leaked out due to a broken membrane and only the mRNA located in the mitochondria has survived.\n",
    "\n",
    "Cells with high UMI counts and detected genes may represent doublets (it requires further checking)."
   ]
  },
  {
   "cell_type": "code",
   "execution_count": null,
   "metadata": {},
   "outputs": [],
   "source": [
    "# Quality control - calculate QC covariates\n",
    "adata.obs['n_counts'] = adata.X.sum(1)\n",
    "adata.obs['log_counts'] = np.log(adata.obs['n_counts'])\n",
    "adata.obs['n_genes'] = (adata.X > 0).sum(1)\n",
    "\n",
    "mt_gene_mask = [gene.startswith('mt-') for gene in adata.var_names]\n",
    "adata.obs['mt_frac'] = adata.X[:, mt_gene_mask].sum(1)/adata.obs['n_counts']"
   ]
  },
  {
   "cell_type": "code",
   "execution_count": null,
   "metadata": {},
   "outputs": [],
   "source": [
    "# Quality control - plot QC metrics\n",
    "#Sample quality plots\n",
    "t1 = sc.pl.violin(adata, 'n_counts', groupby='sample', size=2, log=True, cut=0)\n",
    "t2 = sc.pl.violin(adata, 'mt_frac', groupby='sample')"
   ]
  },
  {
   "cell_type": "code",
   "execution_count": null,
   "metadata": {},
   "outputs": [],
   "source": [
    "#Data quality summary plots\n",
    "p1 = sc.pl.scatter(adata, 'n_counts', 'n_genes', color='mt_frac')\n",
    "p2 = sc.pl.scatter(adata[adata.obs['n_counts']<10000], 'n_counts', 'n_genes', color='mt_frac')"
   ]
  },
  {
   "cell_type": "code",
   "execution_count": null,
   "metadata": {},
   "outputs": [],
   "source": [
    "#Thresholding decision: counts\n",
    "p3 = sb.distplot(adata.obs['n_counts'], kde=False)\n",
    "plt.show()\n",
    "\n",
    "p4 = sb.distplot(adata.obs['n_counts'][adata.obs['n_counts']<4000], kde=False, bins=60)\n",
    "plt.show()\n",
    "\n",
    "p5 = sb.distplot(adata.obs['n_counts'][adata.obs['n_counts']>10000], kde=False, bins=60)\n",
    "plt.show()"
   ]
  },
  {
   "cell_type": "code",
   "execution_count": null,
   "metadata": {},
   "outputs": [],
   "source": [
    "#Thresholding decision: genes\n",
    "p6 = sb.distplot(adata.obs['n_genes'], kde=False, bins=60)\n",
    "plt.show()\n",
    "\n",
    "p7 = sb.distplot(adata.obs['n_genes'][adata.obs['n_genes']<1000], kde=False, bins=60)\n",
    "plt.show()"
   ]
  },
  {
   "cell_type": "code",
   "execution_count": null,
   "metadata": {},
   "outputs": [],
   "source": [
    "# Filter cells according to identified QC thresholds:\n",
    "print('Total number of cells: {:d}'.format(adata.n_obs))\n",
    "\n",
    "sc.pp.filter_cells(adata, min_counts = 1500)\n",
    "print('Number of cells after min count filter: {:d}'.format(adata.n_obs))\n",
    "\n",
    "sc.pp.filter_cells(adata, max_counts = 40000)\n",
    "print('Number of cells after max count filter: {:d}'.format(adata.n_obs))\n",
    "\n",
    "adata = adata[adata.obs['mt_frac'] < 0.2]\n",
    "print('Number of cells after MT filter: {:d}'.format(adata.n_obs))\n",
    "\n",
    "sc.pp.filter_cells(adata, min_genes = 700)\n",
    "print('Number of cells after gene filter: {:d}'.format(adata.n_obs))"
   ]
  },
  {
   "cell_type": "code",
   "execution_count": null,
   "metadata": {},
   "outputs": [],
   "source": [
    "#Filter genes:\n",
    "print('Total number of genes: {:d}'.format(adata.n_vars))\n",
    "\n",
    "# Min 20 cells - filters out 0 count genes\n",
    "sc.pp.filter_genes(adata, min_cells=20)\n",
    "print('Number of genes after cell filter: {:d}'.format(adata.n_vars))"
   ]
  },
  {
   "cell_type": "markdown",
   "metadata": {},
   "source": [
    "### Normalization"
   ]
  },
  {
   "cell_type": "code",
   "execution_count": null,
   "metadata": {},
   "outputs": [],
   "source": [
    "#Perform a clustering for scran normalization in clusters\n",
    "adata_pp = adata.copy()\n",
    "sc.pp.normalize_per_cell(adata_pp, counts_per_cell_after=1e6)\n",
    "sc.pp.log1p(adata_pp)\n",
    "sc.pp.pca(adata_pp, n_comps=15)\n",
    "sc.pp.neighbors(adata_pp)\n",
    "sc.tl.louvain(adata_pp, key_added='groups', resolution=0.5)"
   ]
  },
  {
   "cell_type": "code",
   "execution_count": null,
   "metadata": {},
   "outputs": [],
   "source": [
    "#Preprocess variables for scran normalization\n",
    "input_groups = adata_pp.obs['groups']\n",
    "data_mat = adata.X.T"
   ]
  },
  {
   "cell_type": "code",
   "execution_count": null,
   "metadata": {},
   "outputs": [],
   "source": [
    "%%R -i data_mat -i input_groups -o size_factors\n",
    "\n",
    "size_factors = computeSumFactors(data_mat, clusters=input_groups, min.mean=0.1)"
   ]
  },
  {
   "cell_type": "code",
   "execution_count": null,
   "metadata": {},
   "outputs": [],
   "source": [
    "#Delete adata_pp\n",
    "del adata_pp\n",
    "del data_mat\n",
    "del input_groups"
   ]
  },
  {
   "cell_type": "code",
   "execution_count": null,
   "metadata": {},
   "outputs": [],
   "source": [
    "# Visualize the estimated size factors\n",
    "adata.obs['size_factors'] = size_factors\n",
    "\n",
    "sc.pl.scatter(adata, 'size_factors', 'n_counts')\n",
    "sc.pl.scatter(adata, 'size_factors', 'n_genes')\n",
    "\n",
    "sb.distplot(size_factors, bins=50, kde=False)\n",
    "plt.show()"
   ]
  },
  {
   "cell_type": "code",
   "execution_count": null,
   "metadata": {},
   "outputs": [],
   "source": [
    "#Keep the count data in a counts layer\n",
    "adata.layers[\"counts\"] = adata.X.copy()"
   ]
  },
  {
   "cell_type": "code",
   "execution_count": null,
   "metadata": {},
   "outputs": [],
   "source": [
    "#Normalize adata \n",
    "adata.X /= adata.obs['size_factors'].values[:,None]\n",
    "sc.pp.log1p(adata)"
   ]
  },
  {
   "cell_type": "code",
   "execution_count": null,
   "metadata": {},
   "outputs": [],
   "source": [
    "import scipy\n",
    "adata.X = scipy.sparse.csr_matrix(adata.X)"
   ]
  },
  {
   "cell_type": "code",
   "execution_count": null,
   "metadata": {},
   "outputs": [],
   "source": [
    "# Store the full data set in 'raw' as log-normalised data for statistical testing\n",
    "adata.raw = adata"
   ]
  },
  {
   "cell_type": "markdown",
   "metadata": {},
   "source": [
    "### Batch Correction"
   ]
  },
  {
   "cell_type": "code",
   "execution_count": null,
   "metadata": {},
   "outputs": [],
   "source": [
    "# ComBat batch correction\n",
    "sc.pp.combat(adata, key='sample')"
   ]
  },
  {
   "cell_type": "markdown",
   "metadata": {},
   "source": [
    "### Highly Variable Genes"
   ]
  },
  {
   "cell_type": "code",
   "execution_count": null,
   "metadata": {},
   "outputs": [],
   "source": [
    "sc.pp.highly_variable_genes(adata, flavor='cell_ranger', n_top_genes=4000)\n",
    "print('\\n','Number of highly variable genes: {:d}'.format(np.sum(adata.var['highly_variable'])))"
   ]
  },
  {
   "cell_type": "code",
   "execution_count": null,
   "metadata": {},
   "outputs": [],
   "source": [
    "sc.pl.highly_variable_genes(adata)"
   ]
  },
  {
   "cell_type": "markdown",
   "metadata": {},
   "source": [
    "### Visualization"
   ]
  },
  {
   "cell_type": "code",
   "execution_count": null,
   "metadata": {},
   "outputs": [],
   "source": [
    "# Calculate the visualizations\n",
    "sc.pp.pca(adata, n_comps=40, use_highly_variable=True, svd_solver='arpack')\n",
    "sc.pp.neighbors(adata)\n",
    "\n",
    "sc.tl.tsne(adata, n_jobs=2) #Note n_jobs works for MulticoreTSNE, but not regular implementation)\n",
    "sc.tl.umap(adata)\n",
    "sc.tl.diffmap(adata)\n",
    "sc.tl.draw_graph(adata)"
   ]
  },
  {
   "cell_type": "code",
   "execution_count": null,
   "metadata": {},
   "outputs": [],
   "source": [
    "sc.pl.pca_scatter(adata, color='n_counts')\n",
    "sc.pl.tsne(adata, color='n_counts')\n",
    "sc.pl.umap(adata, color='n_counts')\n",
    "sc.pl.diffmap(adata, color='n_counts', components=['1,2','1,3'])\n",
    "sc.pl.draw_graph(adata, color='n_counts')"
   ]
  },
  {
   "cell_type": "code",
   "execution_count": null,
   "metadata": {},
   "outputs": [],
   "source": [
    "sc.tl.leiden(adata)"
   ]
  },
  {
   "cell_type": "code",
   "execution_count": null,
   "metadata": {},
   "outputs": [],
   "source": [
    "from copy import deepcopy\n",
    "import plotly.graph_objs as go\n",
    "from plotly.offline import download_plotlyjs, init_notebook_mode, plot, iplot\n",
    "leiden_series = deepcopy(adata.obs['leiden'])\n",
    "cell_clusters = list(leiden_series.value_counts().to_dict().keys())\n",
    "colors = sc.pl.palettes.default_102[0:len(cell_clusters) ]\n",
    "dict_map = dict(zip(cell_clusters,colors))\n",
    "color_map = leiden_series.map(dict_map).values\n",
    "labels = list(adata.obs.index)\n",
    "\n",
    "sc.tl.umap(\n",
    "  adata,\n",
    "  n_components=3)\n",
    "hovertext = \\\n",
    "  ['cluster: {0}, barcode: {1}'.\\\n",
    "     format(\n",
    "       grp,labels[index])\n",
    "         for index,grp in enumerate(leiden_series.values)]\n",
    "## plotting 3D UMAP as html file\n",
    "plot(\n",
    "  [go.Scatter3d(\n",
    "     x=adata.obsm['X_umap'][:, 0],\n",
    "     y=adata.obsm['X_umap'][:, 1],\n",
    "     z=adata.obsm['X_umap'][:, 2], \n",
    "     mode='markers',\n",
    "     marker=dict(color=color_map,\n",
    "                 size=5),\n",
    "     opacity=0.6,\n",
    "     text=labels,\n",
    "     hovertext=hovertext,\n",
    "  )],\n",
    "  filename='UMAP-3D-plot.html')"
   ]
  },
  {
   "cell_type": "code",
   "execution_count": null,
   "metadata": {},
   "outputs": [],
   "source": [
    "sc.tl.umap(adata)"
   ]
  },
  {
   "cell_type": "code",
   "execution_count": null,
   "metadata": {},
   "outputs": [],
   "source": [
    "plt.rcParams['figure.figsize']=(11,9)\n",
    "sc.pl.umap(adata, color=['leiden'],use_raw=False,palette=sc.pl.palettes.default_102)"
   ]
  },
  {
   "cell_type": "code",
   "execution_count": null,
   "metadata": {},
   "outputs": [],
   "source": [
    "sc.pl.umap(adata, color=['sample'],use_raw=False)"
   ]
  },
  {
   "cell_type": "markdown",
   "metadata": {},
   "source": [
    "### Cell cycle scoring"
   ]
  },
  {
   "cell_type": "code",
   "execution_count": null,
   "metadata": {},
   "outputs": [],
   "source": [
    "#Score cell cycle and visualize the effect:\n",
    "cc_genes = pd.read_table(cc_genes_file, delimiter='\\t')\n",
    "s_genes = cc_genes['S'].dropna()\n",
    "g2m_genes = cc_genes['G2.M'].dropna()\n",
    "\n",
    "s_genes_mm = [gene.lower().capitalize() for gene in s_genes]\n",
    "g2m_genes_mm = [gene.lower().capitalize() for gene in g2m_genes]\n",
    "\n",
    "s_genes_mm_ens = adata.var_names[np.in1d(adata.var_names, s_genes_mm)]\n",
    "g2m_genes_mm_ens = adata.var_names[np.in1d(adata.var_names, g2m_genes_mm)]\n",
    "\n",
    "sc.tl.score_genes_cell_cycle(adata, s_genes=s_genes_mm_ens, g2m_genes=g2m_genes_mm_ens)"
   ]
  },
  {
   "cell_type": "code",
   "execution_count": null,
   "metadata": {},
   "outputs": [],
   "source": [
    "sc.pl.umap(adata, color='S_score', use_raw=False)\n",
    "sc.pl.umap(adata, color='G2M_score', use_raw=False)\n",
    "sc.pl.umap(adata, color='phase', use_raw=False)"
   ]
  },
  {
   "cell_type": "markdown",
   "metadata": {},
   "source": [
    "## Downstream analysis\n",
    "\n",
    "### Clustering"
   ]
  },
  {
   "cell_type": "code",
   "execution_count": null,
   "metadata": {},
   "outputs": [],
   "source": [
    "# Perform clustering - using highly variable genes\n",
    "sc.tl.louvain(adata, key_added='louvain_r1')\n",
    "sc.tl.louvain(adata, resolution=0.5, key_added='louvain_r0.5', random_state=10)"
   ]
  },
  {
   "cell_type": "code",
   "execution_count": null,
   "metadata": {},
   "outputs": [],
   "source": [
    "adata.obs['louvain_r1'].value_counts()"
   ]
  },
  {
   "cell_type": "code",
   "execution_count": null,
   "metadata": {},
   "outputs": [],
   "source": [
    "adata.obs['louvain_r0.5'].value_counts()"
   ]
  },
  {
   "cell_type": "code",
   "execution_count": null,
   "metadata": {},
   "outputs": [],
   "source": [
    "adata.obs['leiden'].value_counts()"
   ]
  },
  {
   "cell_type": "code",
   "execution_count": null,
   "metadata": {},
   "outputs": [],
   "source": [
    "sc.tl.louvain(adata, resolution=0.6, key_added='louvain_r0.6', random_state=10)"
   ]
  },
  {
   "cell_type": "code",
   "execution_count": null,
   "metadata": {},
   "outputs": [],
   "source": [
    "adata.obs['louvain_r0.6'].value_counts()"
   ]
  },
  {
   "cell_type": "code",
   "execution_count": null,
   "metadata": {},
   "outputs": [],
   "source": [
    "sc.tl.leiden(adata, resolution=0.6, key_added='leiden_r0.6', random_state=10)"
   ]
  },
  {
   "cell_type": "code",
   "execution_count": null,
   "metadata": {},
   "outputs": [],
   "source": [
    "adata.obs['leiden_r0.6'].value_counts()"
   ]
  },
  {
   "cell_type": "code",
   "execution_count": null,
   "metadata": {},
   "outputs": [],
   "source": [
    "#Visualize the clustering and how this is reflected by different technical covariates\n",
    "sc.pl.umap(adata, color='louvain_r1', palette=sc.pl.palettes.default_102)\n",
    "sc.pl.umap(adata, color='louvain_r0.5', palette=sc.pl.palettes.default_102)\n",
    "sc.pl.umap(adata, color='louvain_r0.6', palette=sc.pl.palettes.default_102)\n",
    "sc.pl.umap(adata, color='leiden', palette=sc.pl.palettes.default_102)\n",
    "sc.pl.umap(adata, color='leiden_r0.6', palette=sc.pl.palettes.default_102)\n",
    "sc.pl.umap(adata, color=['region', 'n_counts'])\n",
    "sc.pl.umap(adata, color=['log_counts', 'mt_frac'])"
   ]
  },
  {
   "cell_type": "markdown",
   "metadata": {},
   "source": [
    "### Marker genes & cluster annotation"
   ]
  },
  {
   "cell_type": "code",
   "execution_count": null,
   "metadata": {},
   "outputs": [],
   "source": [
    "#Calculate marker genes\n",
    "sc.tl.rank_genes_groups(adata, groupby='leiden_r0.6', key_added='rank_genes_leiden_r0.6')"
   ]
  },
  {
   "cell_type": "code",
   "execution_count": null,
   "metadata": {},
   "outputs": [],
   "source": [
    "#Plot marker genes\n",
    "sc.pl.rank_genes_groups(adata, key='rank_genes_leiden_r0.6',ncols=2)"
   ]
  },
  {
   "cell_type": "code",
   "execution_count": null,
   "metadata": {},
   "outputs": [],
   "source": [
    "#Known marker genes:\n",
    "marker_genes = dict()\n",
    "marker_genes['Stem'] = ['Lgr5', 'Ascl2', 'Slc12a2', 'Axin2', 'Olfm4', 'Gkn3']\n",
    "marker_genes['Enterocyte (Proximal)'] = ['Gsta1','Rbp2','Adh6a','Apoa4','Reg3a','Creb3l3','Cyp3a13','Cyp2d26','Ms4a10','Ace','Aldh1a1','Rdh7','H2-Q2', 'Hsd17b6','Gstm3','Gda','Apoc3','Gpd1','Fabp1','Slc5a1','Mme','Cox7a1','Gsta4','Lct','Khk','Mttp','Xdh','Sult1b1', 'Treh','Lpgat1','Dhrs1','Cyp2c66','Ephx2','Cyp2c65','Cyp3a25','Slc2a2','Ugdh','Gstm6','Retsat','Ppap2a','Acsl5', 'Cyb5r3','Cyb5b','Ckmt1','Aldob','Ckb','Scp2','Prap1']\n",
    "marker_genes['Enterocyte (Distal)'] = ['Tmigd1','Fabp6','Slc51b','Slc51a','Mep1a','Fam151a','Naaladl1','Slc34a2','Plb1','Nudt4','Dpep1','Pmp22','Xpnpep2','Muc3','Neu1','Clec2h','Phgr1','2200002D01Rik','Prss30','Cubn','Plec','Fgf15','Crip1','Krt20','Dhcr24','Myo15b','Amn','Enpep','Anpep','Slc7a9','Ocm','Anxa2','Aoc1','Ceacam20','Arf6','Abcb1a','Xpnpep1','Vnn1','Cndp2','Nostrin','Slc13a1','Aspa','Maf','Myh14']\n",
    "marker_genes['Goblet'] = ['Agr2', 'Fcgbp', 'Tff3', 'Clca1', 'Zg16', 'Tpsg1', 'Muc2', 'Galnt12', 'Atoh1', 'Rep15', 'S100a6', 'Pdia5', 'Klk1', 'Pla2g10', 'Spdef', 'Lrrc26', 'Ccl9', 'Bace2', 'Bcas1', 'Slc12a8', 'Smim14', 'Tspan13', 'Txndc5', 'Creb3l4', 'C1galt1c1', 'Creb3l1', 'Qsox1', 'Guca2a', 'Scin', 'Ern2', 'AW112010', 'Fkbp11', 'Capn9', 'Stard3nl', 'Slc50a1', 'Sdf2l1', 'Hgfa', 'Galnt7', 'Hpd', 'Ttc39a', 'Tmed3', 'Pdia6', 'Uap1', 'Gcnt3', 'Tnfaip8', 'Dnajc10', 'Ergic1', 'Tsta3', 'Kdelr3', 'Foxa3', 'Tpd52', 'Tmed9', 'Spink4', 'Nans', 'Cmtm7', 'Creld2', 'Tm9sf3', 'Wars', 'Smim6', 'Manf', 'Oit1', 'Tram1', 'Kdelr2', 'Xbp1', 'Serp1', 'Vimp', 'Guk1', 'Sh3bgrl3', 'Cmpk1', 'Tmsb10', 'Dap', 'Ostc', 'Ssr4', 'Sec61b', 'Pdia3', 'Gale', 'Klf4', 'Krtcap2', 'Arf4', 'Sep15', 'Ssr2', 'Ramp1', 'Calr', 'Ddost']\n",
    "marker_genes['Paneth'] = ['Gm15284', 'AY761184', 'Defa17', 'Gm14851', 'Defa22', 'Defa-rs1', 'Defa3', 'Defa24', 'Defa26', 'Defa21', 'Lyz1', 'Gm15292', 'Mptx2', 'Ang4']\n",
    "marker_genes['Enteroendocrine'] = ['Chgb', 'Gfra3', 'Cck', 'Vwa5b2', 'Neurod1', 'Fev', 'Aplp1', 'Scgn', 'Neurog3', 'Resp18', 'Trp53i11', 'Bex2', 'Rph3al', 'Scg5', 'Pcsk1', 'Isl1', 'Maged1', 'Fabp5', 'Celf3', 'Pcsk1n', 'Fam183b', 'Prnp', 'Tac1', 'Gpx3', 'Cplx2', 'Nkx2-2', 'Olfm1', 'Vim', 'Rimbp2', 'Anxa6', 'Scg3', 'Ngfrap1', 'Insm1', 'Gng4', 'Pax6', 'Cnot6l', 'Cacna2d1', 'Tox3', 'Slc39a2', 'Riiad1']\n",
    "marker_genes['Tuft'] = ['Alox5ap', 'Lrmp', 'Hck', 'Avil', 'Rgs13', 'Ltc4s', 'Trpm5', 'Dclk1', 'Spib', 'Fyb', 'Ptpn6', 'Matk', 'Snrnp25', 'Sh2d7', 'Ly6g6f', 'Kctd12', '1810046K07Rik', 'Hpgds', 'Tuba1a', 'Pik3r5', 'Vav1', 'Tspan6', 'Skap2', 'Pygl', 'Ccdc109b', 'Ccdc28b', 'Plcg2', 'Ly6g6d', 'Alox5', 'Pou2f3', 'Gng13', 'Bmx', 'Ptpn18', 'Nebl', 'Limd2', 'Pea15a', 'Tmem176a', 'Smpx', 'Itpr2', 'Il13ra1', 'Siglecf', 'Ffar3', 'Rac2', 'Hmx2', 'Bpgm', 'Inpp5j', 'Ptgs1', 'Aldh2', 'Pik3cg', 'Cd24a', 'Ethe1', 'Inpp5d', 'Krt23', 'Gprc5c', 'Reep5', 'Csk', 'Bcl2l14', 'Tmem141', 'Coprs', 'Tmem176b', '1110007C09Rik', 'Ildr1', 'Galk1', 'Zfp428', 'Rgs2', 'Inpp5b', 'Gnai2', 'Pla2g4a', 'Acot7', 'Rbm38', 'Gga2', 'Myo1b', 'Adh1', 'Bub3', 'Sec14l1', 'Asah1', 'Ppp3ca', 'Agt', 'Gimap1', 'Krt18', 'Pim3', '2210016L21Rik', 'Tmem9', 'Lima1', 'Fam221a', 'Nt5c3', 'Atp2a3', 'Mlip', 'Vdac3', 'Ccdc23', 'Tmem45b', 'Cd47', 'Lect2', 'Pla2g16', 'Mocs2', 'Arpc5', 'Ndufaf3']"
   ]
  },
  {
   "cell_type": "code",
   "execution_count": null,
   "metadata": {},
   "outputs": [],
   "source": [
    "cell_annotation = sc.tl.marker_gene_overlap(adata, marker_genes, key='rank_genes_leiden_r0.6')\n",
    "cell_annotation"
   ]
  },
  {
   "cell_type": "code",
   "execution_count": null,
   "metadata": {},
   "outputs": [],
   "source": [
    "cell_annotation_norm = sc.tl.marker_gene_overlap(adata, marker_genes, key='rank_genes_leiden_r0.6', normalize='reference')\n",
    "sb.heatmap(cell_annotation_norm, cbar=False, annot=True)"
   ]
  },
  {
   "cell_type": "code",
   "execution_count": null,
   "metadata": {},
   "outputs": [],
   "source": [
    "{\n",
    "    'TA':0, # 1\n",
    "    'EP (early)':1, # 0 \n",
    "    'Stem':2, # 2\n",
    "    'Goblet':3, #3\n",
    "    'EP (stress)':4, # 6\n",
    "    'Enterocyte':5, # 4\n",
    "    'Paneth':6, # 5\n",
    "    'Enteroendocrine':7,#8\n",
    "    'Tuft':8}#7"
   ]
  },
  {
   "cell_type": "code",
   "execution_count": null,
   "metadata": {},
   "outputs": [],
   "source": [
    "['EP (early)','TA','Stem','Goblet','Enterocyte','Paneth','EP (stress)','Tuft','Enteroendocrine']"
   ]
  },
  {
   "cell_type": "code",
   "execution_count": null,
   "metadata": {},
   "outputs": [],
   "source": [
    "from matplotlib import colors\n",
    "#Define a nice colour map for gene expression\n",
    "colors2 = plt.cm.Reds(np.linspace(0, 1, 128))\n",
    "colors3 = plt.cm.Greys_r(np.linspace(0.7,0.8,20))\n",
    "colorsComb = np.vstack([colors3, colors2])\n",
    "mymap = colors.LinearSegmentedColormap.from_list('my_colormap', colorsComb)"
   ]
  },
  {
   "cell_type": "code",
   "execution_count": null,
   "metadata": {},
   "outputs": [],
   "source": [
    "#Defa24 #Tff3\n",
    "sc.pl.umap(adata, color='Defa24', use_raw=False, color_map=mymap)\n",
    "sc.pl.umap(adata, color='Tff3', use_raw=False, color_map=mymap)"
   ]
  },
  {
   "cell_type": "code",
   "execution_count": null,
   "metadata": {},
   "outputs": [],
   "source": [
    "# Check expression of enterocyte markers\n",
    "#Collate all enterocyte markers and get the gene IDs in the data set\n",
    "ids_entprox = np.in1d(adata.var_names, marker_genes['Enterocyte (Proximal)'])\n",
    "ids_entdist = np.in1d(adata.var_names, marker_genes['Enterocyte (Distal)'])\n",
    "ids_ent = np.logical_or(ids_entprox, ids_entdist)\n",
    "\n",
    "#Calculate the mean expression of enterocyte markers\n",
    "adata.obs['Enterocyte_marker_expr'] = adata.X[:,ids_ent].mean(1)\n",
    "\n",
    "#Plot enterocyte expression\n",
    "sc.pl.violin(adata, 'Enterocyte_marker_expr', groupby='leiden_r0.6')\n",
    "sc.pl.umap(adata, color='Enterocyte_marker_expr', color_map=mymap)"
   ]
  },
  {
   "cell_type": "code",
   "execution_count": null,
   "metadata": {},
   "outputs": [],
   "source": [
    "#Early enterocyte marker - Arg2\n",
    "sc.pl.umap(adata, color='Arg2', use_raw=False, color_map=mymap)\n",
    "\n",
    "sc.pl.violin(adata, groupby='leiden_r0.6', keys='Arg2', use_raw=False)\n",
    "\n",
    "sc.pl.diffmap(adata, components=['6,9'], color='Arg2', use_raw=False, color_map=mymap)\n",
    "sc.pl.diffmap(adata, components=['6,9'], color='leiden_r0.6')"
   ]
  },
  {
   "cell_type": "code",
   "execution_count": null,
   "metadata": {},
   "outputs": [],
   "source": [
    "sc.pl.violin(adata, 'mt_frac', groupby='leiden_r0.6')\n",
    "sc.pl.violin(adata, 'log_counts', groupby='leiden_r0.6')"
   ]
  },
  {
   "cell_type": "code",
   "execution_count": null,
   "metadata": {},
   "outputs": [],
   "source": [
    "\n",
    "#Check individual stem markers\n",
    "stem_genes = adata.var_names[np.in1d(adata.var_names, marker_genes['Stem'])]\n",
    "sc.pl.umap(adata, color=stem_genes[:3], title=stem_genes[:3], color_map=mymap)\n",
    "sc.pl.umap(adata, color=stem_genes[3:], title=stem_genes[3:], color_map=mymap)"
   ]
  },
  {
   "cell_type": "code",
   "execution_count": null,
   "metadata": {},
   "outputs": [],
   "source": [
    "adata.obs['Stem_marker_expr'] = adata[:,stem_genes].X.mean(1)\n",
    "\n",
    "sc.pl.violin(adata, 'Stem_marker_expr', groupby='leiden_r0.6')\n",
    "sc.pl.umap(adata, color='Stem_marker_expr', color_map=mymap)"
   ]
  },
  {
   "cell_type": "code",
   "execution_count": null,
   "metadata": {},
   "outputs": [],
   "source": [
    "#Categories to rename\n",
    "adata.obs['leiden_r0.6'].cat.categories"
   ]
  },
  {
   "cell_type": "code",
   "execution_count": null,
   "metadata": {},
   "outputs": [],
   "source": [
    "adata.rename_categories('leiden_r0.6',['EP (early)','TA','Stem','Goblet','Enterocyte','Paneth','EP (stress)','Tuft','Enteroendocrine'] )"
   ]
  },
  {
   "cell_type": "code",
   "execution_count": null,
   "metadata": {},
   "outputs": [],
   "source": [
    "adata.obs['leiden_r0.6'].value_counts()"
   ]
  },
  {
   "cell_type": "code",
   "execution_count": null,
   "metadata": {},
   "outputs": [],
   "source": [
    "plt.rcParams['figure.figsize']=(10,9)\n",
    "sc.pl.umap(adata, color='leiden_r0.6', size=15, legend_loc='on data',palette=sc.pl.palettes.default_102)"
   ]
  },
  {
   "cell_type": "markdown",
   "metadata": {},
   "source": [
    "### Subclustering"
   ]
  },
  {
   "cell_type": "code",
   "execution_count": null,
   "metadata": {},
   "outputs": [],
   "source": [
    "#Subcluster enterocytes\n",
    "sc.tl.louvain(adata, restrict_to=('leiden_r0.6', ['Enterocyte']), resolution=0.2, key_added='leiden_r0.6_entero_sub')"
   ]
  },
  {
   "cell_type": "code",
   "execution_count": null,
   "metadata": {},
   "outputs": [],
   "source": [
    "#Show the new clustering\n",
    "if 'leiden_r0.6_entero_sub_colors' in adata.uns:\n",
    "    del adata.uns['leiden_r0.6_entero_sub_colors']\n",
    "\n",
    "sc.pl.umap(adata, color='leiden_r0.6_entero_sub', palette=sc.pl.palettes.default_102)\n",
    "sc.pl.umap(adata, color='region', palette=sc.pl.palettes.default_102)"
   ]
  },
  {
   "cell_type": "code",
   "execution_count": null,
   "metadata": {},
   "outputs": [],
   "source": [
    "#Get the new marker genes\n",
    "sc.tl.rank_genes_groups(adata, groupby='leiden_r0.6_entero_sub', key_added='rank_genes_r0.6_entero_sub')"
   ]
  },
  {
   "cell_type": "code",
   "execution_count": null,
   "metadata": {},
   "outputs": [],
   "source": [
    "#Plot the new marker genes\n",
    "sc.pl.rank_genes_groups(adata, key='rank_genes_r0.6_entero_sub', groups=['Enterocyte,0','Enterocyte,1','Enterocyte,2'], ncols=2, fontsize=12)"
   ]
  },
  {
   "cell_type": "code",
   "execution_count": null,
   "metadata": {},
   "outputs": [],
   "source": [
    "entero_clusts = [clust for clust in adata.obs['leiden_r0.6_entero_sub'].cat.categories if clust.startswith('Enterocyte')]\n",
    "\n",
    "for clust in entero_clusts:\n",
    "    sc.pl.rank_genes_groups_violin(adata, use_raw=True, key='rank_genes_r0.6_entero_sub', groups=[clust], gene_names=adata.uns['rank_genes_r0.6_entero_sub']['names'][clust][90:100])"
   ]
  },
  {
   "cell_type": "code",
   "execution_count": null,
   "metadata": {},
   "outputs": [],
   "source": [
    "#Subset marker gene dictionary to only check for enterocyte markers\n",
    "marker_genes_entero = {k: marker_genes[k] for k in marker_genes if k.startswith('Enterocyte')}"
   ]
  },
  {
   "cell_type": "code",
   "execution_count": null,
   "metadata": {},
   "outputs": [],
   "source": [
    "#Find marker overlap\n",
    "sc.tl.marker_gene_overlap(adata, marker_genes_entero, key='rank_genes_r0.6_entero_sub', normalize='reference')"
   ]
  },
  {
   "cell_type": "code",
   "execution_count": null,
   "metadata": {},
   "outputs": [],
   "source": [
    "#Check enterocyte marker expression\n",
    "sc.pl.violin(adata[adata.obs['leiden_r0.6']=='Enterocyte'], groupby='leiden_r0.6_entero_sub', keys='Enterocyte_marker_expr')"
   ]
  },
  {
   "cell_type": "code",
   "execution_count": null,
   "metadata": {},
   "outputs": [],
   "source": [
    "#Visualize some enterocyte markers\n",
    "entero_genes = ['Alpi', 'Apoa1', 'Apoa4', 'Fabp1', 'Arg2']\n",
    "sc.pl.umap(adata, color=entero_genes[:3], title=entero_genes[:3], color_map=mymap)\n",
    "sc.pl.umap(adata, color=entero_genes[3:], title=entero_genes[3:], color_map=mymap)"
   ]
  },
  {
   "cell_type": "code",
   "execution_count": null,
   "metadata": {},
   "outputs": [],
   "source": [
    "sc.pl.diffmap(adata, color='leiden_r0.6_entero_sub', components='3,7')"
   ]
  },
  {
   "cell_type": "code",
   "execution_count": null,
   "metadata": {},
   "outputs": [],
   "source": [
    "tmp = adata.obs['leiden_r0.6_entero_sub'].cat.categories\n",
    "\n",
    "tmp = ['Enterocyte imm. (Distal)' if item == 'Enterocyte,0' else item for item in tmp]\n",
    "tmp = ['Enterocyte imm. (Proximal)' if item == 'Enterocyte,2' else item for item in tmp]\n",
    "tmp = ['Enterocyte mature' if item == 'Enterocyte,1' else item for item in tmp]\n",
    "\n",
    "\n",
    "adata.rename_categories('leiden_r0.6_entero_sub', tmp)"
   ]
  },
  {
   "cell_type": "code",
   "execution_count": null,
   "metadata": {},
   "outputs": [],
   "source": [
    "#Subcluster mature enterocytes\n",
    "sc.tl.louvain(adata, restrict_to=('leiden_r0.6_entero_sub', ['Enterocyte mature']), resolution=0.25, key_added='leiden_r0.6_entero_mat_sub')"
   ]
  },
  {
   "cell_type": "code",
   "execution_count": null,
   "metadata": {},
   "outputs": [],
   "source": [
    "#Show the new clustering\n",
    "if 'leiden_r0.6_entero_mat_sub_colors' in adata.uns:\n",
    "    del adata.uns['leiden_r0.6_entero_mat_sub_colors']\n",
    "\n",
    "sc.pl.umap(adata, color='leiden_r0.6_entero_mat_sub', palette=sc.pl.palettes.default_102)"
   ]
  },
  {
   "cell_type": "code",
   "execution_count": null,
   "metadata": {},
   "outputs": [],
   "source": [
    "#Get the new marker genes\n",
    "sc.tl.rank_genes_groups(adata, groupby='leiden_r0.6_entero_mat_sub', key_added='rank_genes_r0.6_entero_mat_sub')"
   ]
  },
  {
   "cell_type": "code",
   "execution_count": null,
   "metadata": {},
   "outputs": [],
   "source": [
    "#Plot the new marker genes\n",
    "sc.pl.rank_genes_groups(adata, key='rank_genes_r0.6_entero_mat_sub',\n",
    "                        groups=['Enterocyte mature,0','Enterocyte mature,1'], fontsize=12)"
   ]
  },
  {
   "cell_type": "code",
   "execution_count": null,
   "metadata": {},
   "outputs": [],
   "source": [
    "pd.DataFrame(adata.uns['rank_genes_r0.6_entero_mat_sub']['names'])['Enteroendocrine'].head(15).to_list()"
   ]
  },
  {
   "cell_type": "code",
   "execution_count": null,
   "metadata": {},
   "outputs": [],
   "source": [
    "entero_mat_clusts = [clust for clust in adata.obs['leiden_r0.6_entero_mat_sub'].cat.categories \\\n",
    "                       if clust.startswith('Enterocyte mature')]\n",
    "\n",
    "for clust in entero_mat_clusts:\n",
    "    sc.pl.rank_genes_groups_violin(\n",
    "        adata, use_raw=True, key='rank_genes_r0.6_entero_mat_sub', groups=[clust], \n",
    "        gene_names=adata.uns['rank_genes_r0.6_entero_mat_sub']['names'][clust][90:100])"
   ]
  },
  {
   "cell_type": "code",
   "execution_count": null,
   "metadata": {},
   "outputs": [],
   "source": [
    "#Find marker overlap\n",
    "sc.tl.marker_gene_overlap(adata, marker_genes_entero, key='rank_genes_r0.6_entero_mat_sub', normalize='reference')"
   ]
  },
  {
   "cell_type": "code",
   "execution_count": null,
   "metadata": {},
   "outputs": [],
   "source": [
    "tmp = adata.obs['leiden_r0.6_entero_mat_sub'].cat.categories\n",
    "\n",
    "tmp = ['Enterocyte mat. (Distal)' if item == 'Enterocyte mature,0' else item for item in tmp]\n",
    "tmp = ['Enterocyte mat. (Proximal)' if item == 'Enterocyte mature,1' else item for item in tmp]\n",
    "\n",
    "adata.rename_categories('leiden_r0.6_entero_mat_sub', tmp)"
   ]
  },
  {
   "cell_type": "code",
   "execution_count": null,
   "metadata": {},
   "outputs": [],
   "source": [
    "adata.obs['leiden_final'] = adata.obs['leiden_r0.6_entero_mat_sub']"
   ]
  },
  {
   "cell_type": "code",
   "execution_count": null,
   "metadata": {},
   "outputs": [],
   "source": [
    "sc.pl.umap(adata, color='leiden_final', palette=sc.pl.palettes.default_102, legend_loc='on data',legend_fontsize=8)"
   ]
  },
  {
   "cell_type": "code",
   "execution_count": null,
   "metadata": {},
   "outputs": [],
   "source": [
    "adata.obs['leiden_final'].value_counts()"
   ]
  },
  {
   "cell_type": "markdown",
   "metadata": {},
   "source": [
    "### Compositional analysis\n",
    "We can visualize shifts in cellular densities between conditions"
   ]
  },
  {
   "cell_type": "code",
   "execution_count": null,
   "metadata": {},
   "outputs": [],
   "source": [
    "#Define a variable that stores proximal and distal labels\n",
    "adata.obs['prox_dist'] = ['Distal' if reg=='Il' else 'Proximal' for reg in adata.obs['region']]"
   ]
  },
  {
   "cell_type": "code",
   "execution_count": null,
   "metadata": {},
   "outputs": [],
   "source": [
    "sc.tl.embedding_density(adata, basis='umap', groupby='prox_dist')"
   ]
  },
  {
   "cell_type": "code",
   "execution_count": null,
   "metadata": {},
   "outputs": [],
   "source": [
    "adata.obs['prox_dist'].value_counts()\n",
    "sc.pl.embedding_density(adata, basis='umap', key='umap_density_prox_dist', group='Proximal')\n",
    "sc.pl.embedding_density(adata, basis='umap', key='umap_density_prox_dist', group='Distal')"
   ]
  },
  {
   "cell_type": "markdown",
   "metadata": {},
   "source": [
    "### Trajectory inference and pseudotime analysis"
   ]
  },
  {
   "cell_type": "code",
   "execution_count": null,
   "metadata": {},
   "outputs": [],
   "source": [
    "adata.obs['leiden_final'].value_counts()"
   ]
  },
  {
   "cell_type": "code",
   "execution_count": null,
   "metadata": {},
   "outputs": [],
   "source": [
    "#Subsetting to relevant clusters\n",
    "clusters_to_include = [g for g in adata.obs['leiden_final'].cat.categories \\\n",
    "                         if (g.startswith('Enterocyte') or \\\n",
    "                             g.startswith('TA') or \\\n",
    "                             g.startswith('Stem') or \\\n",
    "                             g.startswith('EP'))]\n",
    "adata_ent = adata[np.isin(adata.obs['leiden_final'], clusters_to_include),:].copy()\n",
    "\n",
    "#Subset to highly variable genes\n",
    "sc.pp.highly_variable_genes(adata_ent, flavor='cell_ranger', n_top_genes=4000, subset=True)"
   ]
  },
  {
   "cell_type": "code",
   "execution_count": null,
   "metadata": {},
   "outputs": [],
   "source": [
    "#Recalculating PCA for subset\n",
    "sc.pp.pca(adata_ent, svd_solver='arpack')\n",
    "sc.pl.pca(adata_ent)\n",
    "sc.pl.pca_variance_ratio(adata_ent)"
   ]
  },
  {
   "cell_type": "code",
   "execution_count": null,
   "metadata": {},
   "outputs": [],
   "source": [
    "adata_ent.obsm['X_pca'] = adata_ent.obsm['X_pca'][:,0:7]"
   ]
  },
  {
   "cell_type": "markdown",
   "metadata": {},
   "source": [
    "### Slingshot"
   ]
  },
  {
   "cell_type": "code",
   "execution_count": null,
   "metadata": {},
   "outputs": [],
   "source": [
    "%%R -i adata_ent\n",
    "\n",
    "#Plot 1\n",
    "colour_map = brewer.pal(20,'Set1')\n",
    "par(xpd=TRUE)\n",
    "par(mar=c(4.5,5.5,2,7))\n",
    "plot(reducedDims(adata_ent)$PCA[,1], reducedDims(adata_ent)$PCA[,2], col=colour_map[colData(adata_ent)$leiden_final], bty='L', xlab='PC1', ylab='PC2')\n",
    "legend(x=12, y=12, legend=unique(colData(adata_ent)$leiden_final), fill=colour_map[as.integer(unique(colData(adata_ent)$leiden_final))])\n",
    "\n",
    "print(\"1:\")\n",
    "adata_ent_start <- slingshot(adata_ent, clusterLabels = 'leiden_final', reducedDim = 'PCA', start.clus='Stem')\n",
    "print(SlingshotDataSet(adata_ent_start))\n",
    "\n",
    "print(\"\")\n",
    "print(\"2:\")\n",
    "adata_ent_startend <- slingshot(adata_ent, clusterLabels = 'leiden_final', reducedDim = 'PCA', start.clus='Stem', end.clus=c('Enterocyte mat. (Proximal)', 'Enterocyte mat. (Distal)'))\n",
    "print(SlingshotDataSet(adata_ent_startend))\n",
    "\n",
    "print(\"\")\n",
    "print(\"3:\")\n",
    "adata_ent_simple_startend <- slingshot(adata_ent, clusterLabels = 'leiden_r0.6', reducedDim = 'PCA', start.clus='Stem', end.clus='Enterocyte')\n",
    "print(SlingshotDataSet(adata_ent_simple_startend))"
   ]
  },
  {
   "cell_type": "code",
   "execution_count": null,
   "metadata": {},
   "outputs": [],
   "source": [
    "%%R\n",
    "options(repr.plot.width=10, repr.plot.height=12)\n",
    "plot(reducedDims(adata_ent)$PCA[,1], reducedDims(adata_ent)$PCA[,2], col=colour_map[colData(adata_ent)$leiden_final], bty='L', xlab='PC1', ylab='PC2')\n",
    "legend(x=12, y=12, legend=unique(colData(adata_ent)$leiden_final), fill=colour_map[as.integer(unique(colData(adata_ent)$leiden_final))])\n"
   ]
  },
  {
   "cell_type": "code",
   "execution_count": null,
   "metadata": {},
   "outputs": [],
   "source": [
    "%%R\n",
    "\n",
    "#Plot of lineage 1\n",
    "colors <- colorRampPalette(brewer.pal(11,'Spectral')[-6])(100)\n",
    "plot(reducedDims(adata_ent_startend)$PCA[,c(1,2)], col = colors[cut(adata_ent_startend$slingPseudotime_1,breaks=100)], pch=16, asp = 1, xlab='PC1', ylab='PC2')\n",
    "lines(slingCurves(adata_ent_startend)$curve1, lwd=2)\n",
    "\n",
    "#Plot of lineage 2\n",
    "colors <- colorRampPalette(brewer.pal(11,'Spectral')[-6])(100)\n",
    "plot(reducedDims(adata_ent_startend)$PCA[,c(1,2)], col = colors[cut(adata_ent_startend$slingPseudotime_2,breaks=100)], pch=16, asp = 1, xlab='PC1', ylab='PC2')\n",
    "lines(slingCurves(adata_ent_startend)$curve2, lwd=2)\n",
    "\n",
    "#Plot of lineages with clusters visualized\n",
    "par(xpd=TRUE)\n",
    "plot(reducedDims(adata_ent_startend)$PCA[,c(1,2)], col = brewer.pal(11,'Set1')[adata_ent$leiden_final], pch=16, asp = 1, bty='L', xlab='PC1', ylab='PC2')\n",
    "lines(SlingshotDataSet(adata_ent_startend), lwd=2, type='lineages')\n",
    "legend(x=10, y=20, legend=unique(colData(adata_ent)$leiden_final), fill=brewer.pal(11,'Set1')[as.integer(unique(colData(adata_ent)$leiden_final))])\n",
    "\n",
    "#Plot of simpler clustering\n",
    "plot(reducedDims(adata_ent_simple_startend)$PCA[,c(1,2)], col = colors[cut(adata_ent_simple_startend$slingPseudotime_1,breaks=100)], pch=16, asp = 1, xlab='PC1', ylab='PC2')\n",
    "lines(SlingshotDataSet(adata_ent_simple_startend), lwd=2)"
   ]
  },
  {
   "cell_type": "markdown",
   "metadata": {},
   "source": [
    "### Diffusion Pseudotime (DPT)"
   ]
  },
  {
   "cell_type": "code",
   "execution_count": null,
   "metadata": {},
   "outputs": [],
   "source": [
    "sc.pp.neighbors(adata_ent)\n",
    "sc.tl.diffmap(adata_ent)"
   ]
  },
  {
   "cell_type": "code",
   "execution_count": null,
   "metadata": {},
   "outputs": [],
   "source": [
    "sc.pl.diffmap(adata_ent, components='1,2', color='leiden_final')\n",
    "sc.pl.diffmap(adata_ent, components='1,3', color='leiden_final')"
   ]
  },
  {
   "cell_type": "code",
   "execution_count": null,
   "metadata": {},
   "outputs": [],
   "source": [
    "#Find the stem cell with the highest DC3 value to act as root for the diffusion pseudotime and compute DPT\n",
    "stem_mask = np.isin(adata_ent.obs['leiden_final'], 'Stem')\n",
    "max_stem_id = np.argmin(adata_ent.obsm['X_diffmap'][stem_mask,3])\n",
    "root_id = np.arange(len(stem_mask))[stem_mask][max_stem_id]\n",
    "adata_ent.uns['iroot'] = root_id\n",
    "\n",
    "#Compute dpt\n",
    "sc.tl.dpt(adata_ent)"
   ]
  },
  {
   "cell_type": "code",
   "execution_count": null,
   "metadata": {},
   "outputs": [],
   "source": [
    "#Visualize pseudotime over differentiation\n",
    "sc.pl.diffmap(adata_ent, components='1,3', color='dpt_pseudotime')"
   ]
  },
  {
   "cell_type": "markdown",
   "metadata": {},
   "source": [
    "## Gene expression dynamics"
   ]
  },
  {
   "cell_type": "code",
   "execution_count": null,
   "metadata": {},
   "outputs": [],
   "source": [
    "%%R\n",
    "\n",
    "#Set the pseudotime variable\n",
    "t <- adata_ent_simple_startend$slingPseudotime_1\n",
    "\n",
    "#Extract the gene expression matrix\n",
    "Y <- assay(adata_ent_simple_startend)\n",
    "\n",
    "# fit a GAM with a loess term for pseudotime\n",
    "#Note: This takes a while\n",
    "gam.pval <- apply(Y,1,function(z){\n",
    "  d <- data.frame(z=z, t=t)\n",
    "  tmp <- gam(z ~ lo(t), data=d)\n",
    "  p <- summary(tmp)[4][[1]][1,5]\n",
    "  p\n",
    "})"
   ]
  },
  {
   "cell_type": "code",
   "execution_count": null,
   "metadata": {},
   "outputs": [],
   "source": [
    "%%R -w 600 -h 1200\n",
    "\n",
    "#Select the top 100 most significant genes that change over pseudotime\n",
    "topgenes <- names(sort(gam.pval, decreasing = FALSE))[1:100]\n",
    "heatdata <- assay(adata_ent_simple_startend)[rownames(assay(adata_ent_simple_startend)) %in% topgenes, \n",
    "                        order(t, na.last = NA)]\n",
    "\n",
    "#Scale the data per gene for visualization\n",
    "heatdata <- t(scale(t(heatdata)))\n",
    "\n",
    "#Trimm z-score scale\n",
    "heatdata[heatdata > 3] = 3\n",
    "heatdata[heatdata < -3] = -3\n",
    "\n",
    "#Get cluster assignment\n",
    "heatclus <- adata_ent_simple_startend$leiden_r0.6[order(t, na.last = NA)]\n",
    "\n",
    "#Set up a clusterExperiment data structure for heatmap visualization\n",
    "ce <- ClusterExperiment(heatdata, heatclus, transformation = function(x){x})\n",
    "\n",
    "#Plot the heatmap\n",
    "plotHeatmap(ce, clusterSamplesData = \"orderSamplesValue\", visualizeData = 'transformed', fontsize=15)\n"
   ]
  },
  {
   "cell_type": "markdown",
   "metadata": {},
   "source": [
    "## Partition-based graph abstraction"
   ]
  },
  {
   "cell_type": "code",
   "execution_count": null,
   "metadata": {},
   "outputs": [],
   "source": [
    "sc.tl.paga(adata, groups='leiden_r0.6')"
   ]
  },
  {
   "cell_type": "code",
   "execution_count": null,
   "metadata": {},
   "outputs": [],
   "source": [
    "adata.uns.get('paga')"
   ]
  },
  {
   "cell_type": "code",
   "execution_count": null,
   "metadata": {},
   "outputs": [],
   "source": [
    "sc.pl.paga(adata, color='leiden_r0.6',cmap=sc.pl.palettes.default_102)\n",
    "sc.pl.umap(adata, color='leiden_r0.6', palette=sc.pl.palettes.default_102)"
   ]
  },
  {
   "cell_type": "code",
   "execution_count": null,
   "metadata": {},
   "outputs": [],
   "source": [
    "sc.tl.draw_graph(adata, init_pos='paga')"
   ]
  },
  {
   "cell_type": "code",
   "execution_count": null,
   "metadata": {},
   "outputs": [],
   "source": [
    "sc.pl.draw_graph(adata, color='leiden_r0.6',palette=sc.pl.palettes.default_102)"
   ]
  },
  {
   "cell_type": "code",
   "execution_count": null,
   "metadata": {},
   "outputs": [],
   "source": [
    "plt.rcParams['figure.figsize']=(8,8)\n",
    "sc.pl.paga_compare(adata, basis='umap')"
   ]
  },
  {
   "cell_type": "code",
   "execution_count": null,
   "metadata": {},
   "outputs": [],
   "source": [
    "fig1, ax1 = plt.subplots()\n",
    "sc.pl.umap(adata, size=50, ax=ax1,show=False)\n",
    "sc.pl.paga(adata, pos=adata.uns['paga']['pos'],show=False,  node_size_scale=2, node_size_power=1, ax=ax1, text_kwds={'alpha':0})"
   ]
  },
  {
   "cell_type": "markdown",
   "metadata": {},
   "source": [
    "## Gene-level analysis"
   ]
  },
  {
   "cell_type": "markdown",
   "metadata": {},
   "source": [
    "### Gene set analysis"
   ]
  },
  {
   "cell_type": "code",
   "execution_count": null,
   "metadata": {},
   "outputs": [],
   "source": [
    "gp = GProfiler(return_dataframe=True, user_agent='g:GOSt')"
   ]
  },
  {
   "cell_type": "code",
   "execution_count": null,
   "metadata": {},
   "outputs": [],
   "source": [
    "endo_genes = ['Fam183b',\n",
    " 'Gfra3',\n",
    " 'Aplp1',\n",
    " 'Chgb',\n",
    " 'Tm4sf4',\n",
    " 'Cdkn1a',\n",
    " 'Gch1',\n",
    " 'Marcksl1',\n",
    " 'Ddc',\n",
    " 'Cpe',\n",
    " 'Cystm1',\n",
    " 'Fxyd3',\n",
    " 'Ngfrap1',\n",
    " 'Fev',\n",
    " 'Cryba2']"
   ]
  },
  {
   "cell_type": "code",
   "execution_count": null,
   "metadata": {},
   "outputs": [],
   "source": [
    "paneth_enrichment = gp.profile(organism='mmusculus', sources=['GO:BP'], user_threshold=0.05,\n",
    "                               significance_threshold_method='fdr', \n",
    "                               background=adata.var_names.tolist(), \n",
    "                               query=endo_genes)"
   ]
  },
  {
   "cell_type": "code",
   "execution_count": null,
   "metadata": {},
   "outputs": [],
   "source": [
    "paneth_enrich_results = paneth_enrichment.set_index('native').sort_values('p_value').iloc[:,[2,5,7,10,1]]"
   ]
  },
  {
   "cell_type": "code",
   "execution_count": null,
   "metadata": {},
   "outputs": [],
   "source": [
    "pd.set_option(\"display.max_colwidth\", 800)\n",
    "paneth_enrich_results.iloc[:50,:]"
   ]
  },
  {
   "cell_type": "code",
   "execution_count": null,
   "metadata": {},
   "outputs": [],
   "source": [
    "## codes copied from https://github.com/theislab/single-cell-tutorial\n",
    "\n",
    "import pandas as pd\n",
    "import numpy as np\n",
    "import matplotlib.pyplot as plt\n",
    "import seaborn as sb\n",
    "from matplotlib import colors\n",
    "from matplotlib import rcParams\n",
    "\n",
    "\n",
    "def scale_data_5_75(data):\n",
    "    mind = np.min(data)\n",
    "    maxd = np.max(data)\n",
    "    \n",
    "    if maxd == mind:\n",
    "        maxd=maxd+1\n",
    "        mind=mind-1\n",
    "        \n",
    "    drange = maxd - mind\n",
    "    return ((((data - mind)/drange*0.70)+0.05)*100)\n",
    "\n",
    "\n",
    "def plot_enrich(data, n_terms=20, save=False):\n",
    "    # Test data input\n",
    "    if not isinstance(data, pd.DataFrame):\n",
    "        raise ValueError('Please input a Pandas Dataframe output by gprofiler.')\n",
    "        \n",
    "    if not np.all([term in data.columns for term in ['p_value', 'name', 'intersection_size']]):\n",
    "        raise TypeError('The data frame {} does not contain enrichment results from gprofiler.'.format(data))\n",
    "    \n",
    "    data_to_plot = data.iloc[:n_terms,:].copy()\n",
    "    data_to_plot['go.id'] = data_to_plot.index\n",
    "\n",
    "    min_pval = data_to_plot['p_value'].min()\n",
    "    max_pval = data_to_plot['p_value'].max()\n",
    "    \n",
    "    # Scale intersection_size to be between 5 and 75 for plotting\n",
    "    #Note: this is done as calibration was done for values between 5 and 75\n",
    "    data_to_plot['scaled.overlap'] = scale_data_5_75(data_to_plot['intersection_size'])\n",
    "    \n",
    "    norm = colors.LogNorm(min_pval, max_pval)\n",
    "    sm = plt.cm.ScalarMappable(cmap=\"cool\", norm=norm)\n",
    "    sm.set_array([])\n",
    "\n",
    "    rcParams.update({'font.size': 14, 'font.weight': 'bold'})\n",
    "\n",
    "    sb.set(style=\"whitegrid\")\n",
    "\n",
    "    path = plt.scatter(x='recall', y=\"name\", c='p_value', cmap='cool', \n",
    "                       norm=colors.LogNorm(min_pval, max_pval), \n",
    "                       data=data_to_plot, linewidth=1, edgecolor=\"grey\", \n",
    "                       s=[(i+10)**1.5 for i in data_to_plot['scaled.overlap']])\n",
    "    ax = plt.gca()\n",
    "    ax.invert_yaxis()\n",
    "\n",
    "    ax.set_ylabel('')\n",
    "    ax.set_xlabel('Gene ratio', fontsize=14, fontweight='bold')\n",
    "    ax.xaxis.grid(False)\n",
    "    ax.yaxis.grid(True)\n",
    "\n",
    "    # Shrink current axis by 20%\n",
    "    box = ax.get_position()\n",
    "    ax.set_position([box.x0, box.y0, box.width * 0.8, box.height])\n",
    "\n",
    "    # Get tick marks for this plot\n",
    "    #Note: 6 ticks maximum\n",
    "    min_tick = np.floor(np.log10(min_pval)).astype(int)\n",
    "    max_tick = np.ceil(np.log10(max_pval)).astype(int)\n",
    "    tick_step = np.ceil((max_tick - min_tick)/6).astype(int)\n",
    "    \n",
    "    # Ensure no 0 values\n",
    "    if tick_step == 0:\n",
    "        tick_step = 1\n",
    "        min_tick = max_tick-1\n",
    "    \n",
    "    ticks_vals = [10**i for i in range(max_tick, min_tick-1, -tick_step)]\n",
    "    ticks_labs = ['$10^{'+str(i)+'}$' for i in range(max_tick, min_tick-1, -tick_step)]\n",
    "\n",
    "    #Colorbar\n",
    "    fig = plt.gcf()\n",
    "    cbaxes = fig.add_axes([0.8, 0.15, 0.03, 0.4])\n",
    "    cbar = ax.figure.colorbar(sm, ticks=ticks_vals, shrink=0.5, anchor=(0,0.1), cax=cbaxes)\n",
    "    cbar.ax.set_yticklabels(ticks_labs)\n",
    "    cbar.set_label(\"Adjusted p-value\", fontsize=14, fontweight='bold')\n",
    "\n",
    "    #Size legend\n",
    "    min_olap = data_to_plot['intersection_size'].min()\n",
    "    max_olap = data_to_plot['intersection_size'].max()\n",
    "    olap_range = max_olap - min_olap\n",
    "    \n",
    "    #Note: approximate scaled 5, 25, 50, 75 values are calculated\n",
    "    #      and then rounded to nearest number divisible by 5\n",
    "    size_leg_vals = [np.round(i/5)*5 for i in \n",
    "                          [min_olap, min_olap+(20/70)*olap_range, min_olap+(45/70)*olap_range, max_olap]]\n",
    "    size_leg_scaled_vals = scale_data_5_75(size_leg_vals)\n",
    "\n",
    "    \n",
    "    l1 = plt.scatter([],[], s=(size_leg_scaled_vals[0]+10)**1.5, edgecolors='none', color='black')\n",
    "    l2 = plt.scatter([],[], s=(size_leg_scaled_vals[1]+10)**1.5, edgecolors='none', color='black')\n",
    "    l3 = plt.scatter([],[], s=(size_leg_scaled_vals[2]+10)**1.5, edgecolors='none', color='black')\n",
    "    l4 = plt.scatter([],[], s=(size_leg_scaled_vals[3]+10)**1.5, edgecolors='none', color='black')\n",
    "\n",
    "    labels = [str(int(i)) for i in size_leg_vals]\n",
    "\n",
    "    leg = plt.legend([l1, l2, l3, l4], labels, ncol=1, frameon=False, fontsize=12,\n",
    "                     handlelength=1, loc = 'center left', borderpad = 1, labelspacing = 1.4,\n",
    "                     handletextpad=2, title='Gene overlap', scatterpoints = 1,  bbox_to_anchor=(-2, 1.5), \n",
    "                     facecolor='black')\n",
    "\n",
    "    if save:\n",
    "        plt.savefig(save, dpi=300, format='pdf')\n",
    "\n",
    "    plt.show()"
   ]
  },
  {
   "cell_type": "code",
   "execution_count": null,
   "metadata": {},
   "outputs": [],
   "source": [
    "plot_enrich(paneth_enrich_results)"
   ]
  },
  {
   "cell_type": "code",
   "execution_count": null,
   "metadata": {},
   "outputs": [],
   "source": []
  }
 ],
 "metadata": {
  "kernelspec": {
   "display_name": "Python 3",
   "language": "python",
   "name": "python3"
  },
  "language_info": {
   "codemirror_mode": {
    "name": "ipython",
    "version": 3
   },
   "file_extension": ".py",
   "mimetype": "text/x-python",
   "name": "python",
   "nbconvert_exporter": "python",
   "pygments_lexer": "ipython3",
   "version": "3.6.9"
  }
 },
 "nbformat": 4,
 "nbformat_minor": 4
}
