{
 "cells": [
  {
   "cell_type": "markdown",
   "metadata": {},
   "source": [
    "# Jupyter notebook tutorial: Basic usage "
   ]
  },
  {
   "cell_type": "markdown",
   "metadata": {},
   "source": [
    "## Run a shell command\n",
    "\n",
    "* Select the next cell\n",
    "* Press `shift + enter` in your keyboard"
   ]
  },
  {
   "cell_type": "code",
   "execution_count": null,
   "metadata": {},
   "outputs": [],
   "source": [
    "!echo \"hello world\""
   ]
  },
  {
   "cell_type": "markdown",
   "metadata": {},
   "source": [
    "## Run a python command\n",
    "\n",
    "* Select the next cell\n",
    "* Press `shift + enter` in your keyboard"
   ]
  },
  {
   "cell_type": "code",
   "execution_count": null,
   "metadata": {},
   "outputs": [],
   "source": [
    "print('hello world')"
   ]
  },
  {
   "cell_type": "markdown",
   "metadata": {},
   "source": [
    "## Plot data\n",
    "* Select the next cell\n",
    "* Press `shift + enter` in your keyboard"
   ]
  },
  {
   "cell_type": "code",
   "execution_count": null,
   "metadata": {},
   "outputs": [],
   "source": [
    "import numpy as np\n",
    "import pandas as pd\n",
    "import seaborn as sns\n",
    "from sklearn.datasets import load_breast_cancer\n",
    "cancer = load_breast_cancer()\n",
    "data = pd.DataFrame(\n",
    "  np.c_[cancer['data'],cancer['target']],\n",
    "  columns=np.append(cancer['feature_names'],['target'])\n",
    "  )\n",
    "sns.pairplot(data,vars=['mean radius','worst smoothness'],hue='target')"
   ]
  },
  {
   "cell_type": "markdown",
   "metadata": {},
   "source": [
    "## Using Magic"
   ]
  },
  {
   "cell_type": "markdown",
   "metadata": {},
   "source": [
    "### File magic\n",
    "* Select the next cell\n",
    "* Press `shift + enter` in your keyboard\n",
    "* This `cell magic` will create a new text file\n",
    "* Use the `File Browser` side panel to explore this new file\n",
    "* Right click on the `new_file.txt` and open the text file via `Editor`"
   ]
  },
  {
   "cell_type": "code",
   "execution_count": null,
   "metadata": {},
   "outputs": [],
   "source": [
    "%%file new_file.txt\n",
    "Adding a new line to new_file.txt"
   ]
  },
  {
   "cell_type": "markdown",
   "metadata": {},
   "source": [
    "### Time magic\n",
    "* Select the next cell\n",
    "* Press `shift + enter` in your keyboard\n",
    "* This magic will show the required runtime for the following code"
   ]
  },
  {
   "cell_type": "code",
   "execution_count": null,
   "metadata": {},
   "outputs": [],
   "source": [
    "%%time\n",
    "!echo 'hello world'"
   ]
  },
  {
   "cell_type": "markdown",
   "metadata": {},
   "source": [
    "### Bash magic\n",
    "* Select the next cell\n",
    "* Press `shift + enter` in your keyboard\n",
    "* This cell magic will run a shell command or shell script"
   ]
  },
  {
   "cell_type": "code",
   "execution_count": null,
   "metadata": {},
   "outputs": [],
   "source": [
    "%%bash\n",
    "for i in {{1..10}};\n",
    "do\n",
    "  echo 'hello world'\n",
    "done"
   ]
  },
  {
   "cell_type": "markdown",
   "metadata": {},
   "source": [
    "## Documentation using markdown\n",
    "* Select the the next cell by clicking outside of the cell border\n",
    "* Press `m` to convert the celltype to `Markdown`\n",
    "* Press `shift + enter` in your keyboard"
   ]
  },
  {
   "cell_type": "markdown",
   "metadata": {},
   "source": [
    "# This is the main heading\n",
    "## This is sub heading\n",
    "### This is sub sub-heading\n",
    "\n",
    "## Adding a list item:\n",
    "    * list item\n",
    "    * list item\n",
    "    * list item\n",
    "    \n",
    "## Adding a link:\n",
    "    \n",
    "Search on [Google](google.com) for singlecell RNA-Seq\n",
    "\n",
    "## Adding formatted texts:\n",
    "\n",
    "* Its __bold text__\n",
    "* Its _italic text_\n",
    "\n",
    "## Adding a numerical formula using LaTex\n",
    "\n",
    "$$E=MC^2$$"
   ]
  },
  {
   "cell_type": "code",
   "execution_count": null,
   "metadata": {},
   "outputs": [],
   "source": []
  }
 ],
 "metadata": {
  "kernelspec": {
   "display_name": "Python 3",
   "language": "python",
   "name": "python3"
  },
  "language_info": {
   "codemirror_mode": {
    "name": "ipython",
    "version": 3
   },
   "file_extension": ".py",
   "mimetype": "text/x-python",
   "name": "python",
   "nbconvert_exporter": "python",
   "pygments_lexer": "ipython3",
   "version": "3.6.9"
  }
 },
 "nbformat": 4,
 "nbformat_minor": 4
}
